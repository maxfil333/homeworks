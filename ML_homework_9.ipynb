{
 "cells": [
  {
   "cell_type": "code",
   "execution_count": 1,
   "id": "61c9c52e",
   "metadata": {},
   "outputs": [],
   "source": [
    "import pandas as pd\n",
    "import numpy as np\n",
    "import matplotlib.pyplot as plt\n",
    "import seaborn as sns"
   ]
  },
  {
   "cell_type": "code",
   "execution_count": 2,
   "id": "a0a574fa",
   "metadata": {},
   "outputs": [],
   "source": [
    "from sklearn.datasets import make_classification\n",
    "x_data_generated, y_data_generated = make_classification(scale=1, random_state=1)"
   ]
  },
  {
   "cell_type": "code",
   "execution_count": 3,
   "id": "9250b56d",
   "metadata": {},
   "outputs": [
    {
     "data": {
      "text/plain": [
       "((100, 20), (100, 1))"
      ]
     },
     "execution_count": 3,
     "metadata": {},
     "output_type": "execute_result"
    }
   ],
   "source": [
    "y_data_generated = y_data_generated.reshape(100,1)\n",
    "x_data_generated.shape, y_data_generated.shape"
   ]
  },
  {
   "cell_type": "code",
   "execution_count": 4,
   "id": "7a7d2586",
   "metadata": {},
   "outputs": [
    {
     "data": {
      "text/plain": [
       "(100, 21)"
      ]
     },
     "execution_count": 4,
     "metadata": {},
     "output_type": "execute_result"
    }
   ],
   "source": [
    "df = np.hstack((x_data_generated, y_data_generated))\n",
    "df.shape"
   ]
  },
  {
   "cell_type": "code",
   "execution_count": 5,
   "id": "3bd2ff5c",
   "metadata": {},
   "outputs": [
    {
     "data": {
      "text/html": [
       "<div>\n",
       "<style scoped>\n",
       "    .dataframe tbody tr th:only-of-type {\n",
       "        vertical-align: middle;\n",
       "    }\n",
       "\n",
       "    .dataframe tbody tr th {\n",
       "        vertical-align: top;\n",
       "    }\n",
       "\n",
       "    .dataframe thead th {\n",
       "        text-align: right;\n",
       "    }\n",
       "</style>\n",
       "<table border=\"1\" class=\"dataframe\">\n",
       "  <thead>\n",
       "    <tr style=\"text-align: right;\">\n",
       "      <th></th>\n",
       "      <th>0</th>\n",
       "      <th>1</th>\n",
       "      <th>2</th>\n",
       "      <th>3</th>\n",
       "      <th>4</th>\n",
       "      <th>5</th>\n",
       "      <th>6</th>\n",
       "      <th>7</th>\n",
       "      <th>8</th>\n",
       "      <th>9</th>\n",
       "      <th>...</th>\n",
       "      <th>11</th>\n",
       "      <th>12</th>\n",
       "      <th>13</th>\n",
       "      <th>14</th>\n",
       "      <th>15</th>\n",
       "      <th>16</th>\n",
       "      <th>17</th>\n",
       "      <th>18</th>\n",
       "      <th>19</th>\n",
       "      <th>20</th>\n",
       "    </tr>\n",
       "  </thead>\n",
       "  <tbody>\n",
       "    <tr>\n",
       "      <th>0</th>\n",
       "      <td>0.606548</td>\n",
       "      <td>0.816958</td>\n",
       "      <td>1.051321</td>\n",
       "      <td>1.657125</td>\n",
       "      <td>-0.459718</td>\n",
       "      <td>-0.588964</td>\n",
       "      <td>0.650323</td>\n",
       "      <td>0.050317</td>\n",
       "      <td>1.705484</td>\n",
       "      <td>1.417674</td>\n",
       "      <td>...</td>\n",
       "      <td>0.309817</td>\n",
       "      <td>0.778174</td>\n",
       "      <td>-1.124787</td>\n",
       "      <td>-1.283933</td>\n",
       "      <td>0.080751</td>\n",
       "      <td>0.094996</td>\n",
       "      <td>-0.364538</td>\n",
       "      <td>0.164665</td>\n",
       "      <td>-0.767804</td>\n",
       "      <td>1.0</td>\n",
       "    </tr>\n",
       "    <tr>\n",
       "      <th>1</th>\n",
       "      <td>-3.053764</td>\n",
       "      <td>0.921162</td>\n",
       "      <td>-1.458324</td>\n",
       "      <td>0.240506</td>\n",
       "      <td>0.612233</td>\n",
       "      <td>-0.513571</td>\n",
       "      <td>-0.192004</td>\n",
       "      <td>0.398598</td>\n",
       "      <td>0.744885</td>\n",
       "      <td>-0.999427</td>\n",
       "      <td>...</td>\n",
       "      <td>-0.961264</td>\n",
       "      <td>0.578464</td>\n",
       "      <td>-1.070208</td>\n",
       "      <td>-1.287740</td>\n",
       "      <td>-1.494194</td>\n",
       "      <td>0.494342</td>\n",
       "      <td>0.204377</td>\n",
       "      <td>-1.552699</td>\n",
       "      <td>-0.446699</td>\n",
       "      <td>1.0</td>\n",
       "    </tr>\n",
       "    <tr>\n",
       "      <th>2</th>\n",
       "      <td>0.606404</td>\n",
       "      <td>0.680645</td>\n",
       "      <td>1.021248</td>\n",
       "      <td>1.495885</td>\n",
       "      <td>0.672620</td>\n",
       "      <td>-0.693833</td>\n",
       "      <td>-1.470237</td>\n",
       "      <td>0.599213</td>\n",
       "      <td>2.428877</td>\n",
       "      <td>0.675454</td>\n",
       "      <td>...</td>\n",
       "      <td>-0.214654</td>\n",
       "      <td>-1.019520</td>\n",
       "      <td>-1.204402</td>\n",
       "      <td>-1.285590</td>\n",
       "      <td>-0.477124</td>\n",
       "      <td>0.524750</td>\n",
       "      <td>1.037039</td>\n",
       "      <td>-0.830011</td>\n",
       "      <td>-0.035990</td>\n",
       "      <td>1.0</td>\n",
       "    </tr>\n",
       "    <tr>\n",
       "      <th>3</th>\n",
       "      <td>1.616950</td>\n",
       "      <td>-1.515948</td>\n",
       "      <td>2.449369</td>\n",
       "      <td>0.623362</td>\n",
       "      <td>0.242669</td>\n",
       "      <td>-0.512259</td>\n",
       "      <td>0.129102</td>\n",
       "      <td>1.407540</td>\n",
       "      <td>0.201830</td>\n",
       "      <td>-0.434957</td>\n",
       "      <td>...</td>\n",
       "      <td>-1.219744</td>\n",
       "      <td>0.109403</td>\n",
       "      <td>-0.024881</td>\n",
       "      <td>0.676609</td>\n",
       "      <td>-0.198838</td>\n",
       "      <td>-0.545774</td>\n",
       "      <td>-0.203394</td>\n",
       "      <td>1.558806</td>\n",
       "      <td>-0.700399</td>\n",
       "      <td>0.0</td>\n",
       "    </tr>\n",
       "    <tr>\n",
       "      <th>4</th>\n",
       "      <td>-0.828148</td>\n",
       "      <td>-1.569173</td>\n",
       "      <td>1.762609</td>\n",
       "      <td>-1.223880</td>\n",
       "      <td>1.127751</td>\n",
       "      <td>-0.921486</td>\n",
       "      <td>-0.447308</td>\n",
       "      <td>-0.982161</td>\n",
       "      <td>0.050293</td>\n",
       "      <td>0.558264</td>\n",
       "      <td>...</td>\n",
       "      <td>0.680979</td>\n",
       "      <td>-0.474590</td>\n",
       "      <td>-0.540548</td>\n",
       "      <td>0.284574</td>\n",
       "      <td>0.522655</td>\n",
       "      <td>-0.357514</td>\n",
       "      <td>0.098942</td>\n",
       "      <td>-0.429386</td>\n",
       "      <td>-0.355413</td>\n",
       "      <td>0.0</td>\n",
       "    </tr>\n",
       "  </tbody>\n",
       "</table>\n",
       "<p>5 rows × 21 columns</p>\n",
       "</div>"
      ],
      "text/plain": [
       "         0         1         2         3         4         5         6   \\\n",
       "0  0.606548  0.816958  1.051321  1.657125 -0.459718 -0.588964  0.650323   \n",
       "1 -3.053764  0.921162 -1.458324  0.240506  0.612233 -0.513571 -0.192004   \n",
       "2  0.606404  0.680645  1.021248  1.495885  0.672620 -0.693833 -1.470237   \n",
       "3  1.616950 -1.515948  2.449369  0.623362  0.242669 -0.512259  0.129102   \n",
       "4 -0.828148 -1.569173  1.762609 -1.223880  1.127751 -0.921486 -0.447308   \n",
       "\n",
       "         7         8         9   ...        11        12        13        14  \\\n",
       "0  0.050317  1.705484  1.417674  ...  0.309817  0.778174 -1.124787 -1.283933   \n",
       "1  0.398598  0.744885 -0.999427  ... -0.961264  0.578464 -1.070208 -1.287740   \n",
       "2  0.599213  2.428877  0.675454  ... -0.214654 -1.019520 -1.204402 -1.285590   \n",
       "3  1.407540  0.201830 -0.434957  ... -1.219744  0.109403 -0.024881  0.676609   \n",
       "4 -0.982161  0.050293  0.558264  ...  0.680979 -0.474590 -0.540548  0.284574   \n",
       "\n",
       "         15        16        17        18        19   20  \n",
       "0  0.080751  0.094996 -0.364538  0.164665 -0.767804  1.0  \n",
       "1 -1.494194  0.494342  0.204377 -1.552699 -0.446699  1.0  \n",
       "2 -0.477124  0.524750  1.037039 -0.830011 -0.035990  1.0  \n",
       "3 -0.198838 -0.545774 -0.203394  1.558806 -0.700399  0.0  \n",
       "4  0.522655 -0.357514  0.098942 -0.429386 -0.355413  0.0  \n",
       "\n",
       "[5 rows x 21 columns]"
      ]
     },
     "execution_count": 5,
     "metadata": {},
     "output_type": "execute_result"
    }
   ],
   "source": [
    "df = pd.DataFrame(df)\n",
    "df.head()"
   ]
  },
  {
   "cell_type": "code",
   "execution_count": 6,
   "id": "259ff337",
   "metadata": {},
   "outputs": [],
   "source": [
    "y = df[20]\n",
    "X = df.copy()\n",
    "del X[20]"
   ]
  },
  {
   "cell_type": "code",
   "execution_count": 7,
   "id": "c2dde057",
   "metadata": {},
   "outputs": [
    {
     "name": "stdout",
     "output_type": "stream",
     "text": [
      "0.9\n",
      "20\n"
     ]
    }
   ],
   "source": [
    "from sklearn.linear_model import LogisticRegression\n",
    "from sklearn.model_selection import cross_val_score\n",
    "print(all_features := cross_val_score(LogisticRegression(), X, y, scoring='accuracy').mean())\n",
    "print(len_0 := len(X.columns))"
   ]
  },
  {
   "cell_type": "markdown",
   "id": "296b3918",
   "metadata": {},
   "source": [
    "## Выбор признаков на основе матрицы корреляции"
   ]
  },
  {
   "cell_type": "code",
   "execution_count": 8,
   "id": "48ad19d2",
   "metadata": {},
   "outputs": [
    {
     "data": {
      "image/png": "[encoded data removed]",
      "text/plain": [
       "<Figure size 1100x900 with 2 Axes>"
      ]
     },
     "metadata": {},
     "output_type": "display_data"
    }
   ],
   "source": [
    "fig = plt.figure(figsize=(11,9))\n",
    "sns.heatmap(df.corr(), annot=True, fmt=\".1f\", cmap=\"crest\")\n",
    "plt.show()"
   ]
  },
  {
   "cell_type": "markdown",
   "id": "49e4b507",
   "metadata": {},
   "source": [
    "Проанализируем таблицу корреляций.\n",
    "\n",
    "Удалим признаки, имеющие нулевую корреляцию с целевым признаком. features_to_delete = [4,9,11,12,15,19]\n",
    "\n",
    "Признак 13 имеет высокую корреляцию с признаками 14, 5. Удалим его. features_to_delete = [4,9,11,12,15,19,13]\n",
    "\n",
    "Проверим метрики на оставшихся признаках."
   ]
  },
  {
   "cell_type": "code",
   "execution_count": 9,
   "id": "bf2475b5",
   "metadata": {},
   "outputs": [
    {
     "name": "stdout",
     "output_type": "stream",
     "text": [
      "0.96\n",
      "14\n"
     ]
    }
   ],
   "source": [
    "features_to_delete = [4,9,11,12,15,19,13]\n",
    "X = df[(df.columns.difference(features_to_delete))]\n",
    "print(corr_table_features:=cross_val_score(LogisticRegression(), X, y, scoring='accuracy').mean())\n",
    "print(len_1 := len(X.columns))"
   ]
  },
  {
   "cell_type": "markdown",
   "id": "2e16c1e0",
   "metadata": {},
   "source": [
    "Точность модели после удаления признаков на основе таблицы корреляции улучшилась с 0.90 до 0.96."
   ]
  },
  {
   "cell_type": "markdown",
   "id": "b26fbf31",
   "metadata": {},
   "source": [
    "## Отсечение низковариативных признаков VarianceThreshold"
   ]
  },
  {
   "cell_type": "code",
   "execution_count": 10,
   "id": "0635bc14",
   "metadata": {},
   "outputs": [],
   "source": [
    "X = df.copy()\n",
    "del X[20]"
   ]
  },
  {
   "cell_type": "code",
   "execution_count": 11,
   "id": "d59d36ba",
   "metadata": {},
   "outputs": [
    {
     "data": {
      "text/html": [
       "<div>\n",
       "<style scoped>\n",
       "    .dataframe tbody tr th:only-of-type {\n",
       "        vertical-align: middle;\n",
       "    }\n",
       "\n",
       "    .dataframe tbody tr th {\n",
       "        vertical-align: top;\n",
       "    }\n",
       "\n",
       "    .dataframe thead th {\n",
       "        text-align: right;\n",
       "    }\n",
       "</style>\n",
       "<table border=\"1\" class=\"dataframe\">\n",
       "  <thead>\n",
       "    <tr style=\"text-align: right;\">\n",
       "      <th></th>\n",
       "      <th>0</th>\n",
       "      <th>1</th>\n",
       "      <th>2</th>\n",
       "      <th>3</th>\n",
       "      <th>4</th>\n",
       "      <th>5</th>\n",
       "      <th>6</th>\n",
       "      <th>7</th>\n",
       "      <th>8</th>\n",
       "      <th>9</th>\n",
       "      <th>10</th>\n",
       "      <th>11</th>\n",
       "      <th>12</th>\n",
       "      <th>13</th>\n",
       "      <th>14</th>\n",
       "      <th>15</th>\n",
       "      <th>16</th>\n",
       "      <th>17</th>\n",
       "      <th>18</th>\n",
       "      <th>19</th>\n",
       "    </tr>\n",
       "  </thead>\n",
       "  <tbody>\n",
       "    <tr>\n",
       "      <th>0</th>\n",
       "      <td>0.606548</td>\n",
       "      <td>0.816958</td>\n",
       "      <td>1.051321</td>\n",
       "      <td>1.657125</td>\n",
       "      <td>-0.459718</td>\n",
       "      <td>-0.588964</td>\n",
       "      <td>0.650323</td>\n",
       "      <td>0.050317</td>\n",
       "      <td>1.705484</td>\n",
       "      <td>1.417674</td>\n",
       "      <td>-0.737290</td>\n",
       "      <td>0.309817</td>\n",
       "      <td>0.778174</td>\n",
       "      <td>-1.124787</td>\n",
       "      <td>-1.283933</td>\n",
       "      <td>0.080751</td>\n",
       "      <td>0.094996</td>\n",
       "      <td>-0.364538</td>\n",
       "      <td>0.164665</td>\n",
       "      <td>-0.767804</td>\n",
       "    </tr>\n",
       "    <tr>\n",
       "      <th>1</th>\n",
       "      <td>-3.053764</td>\n",
       "      <td>0.921162</td>\n",
       "      <td>-1.458324</td>\n",
       "      <td>0.240506</td>\n",
       "      <td>0.612233</td>\n",
       "      <td>-0.513571</td>\n",
       "      <td>-0.192004</td>\n",
       "      <td>0.398598</td>\n",
       "      <td>0.744885</td>\n",
       "      <td>-0.999427</td>\n",
       "      <td>0.479852</td>\n",
       "      <td>-0.961264</td>\n",
       "      <td>0.578464</td>\n",
       "      <td>-1.070208</td>\n",
       "      <td>-1.287740</td>\n",
       "      <td>-1.494194</td>\n",
       "      <td>0.494342</td>\n",
       "      <td>0.204377</td>\n",
       "      <td>-1.552699</td>\n",
       "      <td>-0.446699</td>\n",
       "    </tr>\n",
       "    <tr>\n",
       "      <th>2</th>\n",
       "      <td>0.606404</td>\n",
       "      <td>0.680645</td>\n",
       "      <td>1.021248</td>\n",
       "      <td>1.495885</td>\n",
       "      <td>0.672620</td>\n",
       "      <td>-0.693833</td>\n",
       "      <td>-1.470237</td>\n",
       "      <td>0.599213</td>\n",
       "      <td>2.428877</td>\n",
       "      <td>0.675454</td>\n",
       "      <td>2.293718</td>\n",
       "      <td>-0.214654</td>\n",
       "      <td>-1.019520</td>\n",
       "      <td>-1.204402</td>\n",
       "      <td>-1.285590</td>\n",
       "      <td>-0.477124</td>\n",
       "      <td>0.524750</td>\n",
       "      <td>1.037039</td>\n",
       "      <td>-0.830011</td>\n",
       "      <td>-0.035990</td>\n",
       "    </tr>\n",
       "    <tr>\n",
       "      <th>3</th>\n",
       "      <td>1.616950</td>\n",
       "      <td>-1.515948</td>\n",
       "      <td>2.449369</td>\n",
       "      <td>0.623362</td>\n",
       "      <td>0.242669</td>\n",
       "      <td>-0.512259</td>\n",
       "      <td>0.129102</td>\n",
       "      <td>1.407540</td>\n",
       "      <td>0.201830</td>\n",
       "      <td>-0.434957</td>\n",
       "      <td>0.502741</td>\n",
       "      <td>-1.219744</td>\n",
       "      <td>0.109403</td>\n",
       "      <td>-0.024881</td>\n",
       "      <td>0.676609</td>\n",
       "      <td>-0.198838</td>\n",
       "      <td>-0.545774</td>\n",
       "      <td>-0.203394</td>\n",
       "      <td>1.558806</td>\n",
       "      <td>-0.700399</td>\n",
       "    </tr>\n",
       "    <tr>\n",
       "      <th>4</th>\n",
       "      <td>-0.828148</td>\n",
       "      <td>-1.569173</td>\n",
       "      <td>1.762609</td>\n",
       "      <td>-1.223880</td>\n",
       "      <td>1.127751</td>\n",
       "      <td>-0.921486</td>\n",
       "      <td>-0.447308</td>\n",
       "      <td>-0.982161</td>\n",
       "      <td>0.050293</td>\n",
       "      <td>0.558264</td>\n",
       "      <td>-0.110728</td>\n",
       "      <td>0.680979</td>\n",
       "      <td>-0.474590</td>\n",
       "      <td>-0.540548</td>\n",
       "      <td>0.284574</td>\n",
       "      <td>0.522655</td>\n",
       "      <td>-0.357514</td>\n",
       "      <td>0.098942</td>\n",
       "      <td>-0.429386</td>\n",
       "      <td>-0.355413</td>\n",
       "    </tr>\n",
       "    <tr>\n",
       "      <th>...</th>\n",
       "      <td>...</td>\n",
       "      <td>...</td>\n",
       "      <td>...</td>\n",
       "      <td>...</td>\n",
       "      <td>...</td>\n",
       "      <td>...</td>\n",
       "      <td>...</td>\n",
       "      <td>...</td>\n",
       "      <td>...</td>\n",
       "      <td>...</td>\n",
       "      <td>...</td>\n",
       "      <td>...</td>\n",
       "      <td>...</td>\n",
       "      <td>...</td>\n",
       "      <td>...</td>\n",
       "      <td>...</td>\n",
       "      <td>...</td>\n",
       "      <td>...</td>\n",
       "      <td>...</td>\n",
       "      <td>...</td>\n",
       "    </tr>\n",
       "    <tr>\n",
       "      <th>95</th>\n",
       "      <td>-0.017818</td>\n",
       "      <td>0.752217</td>\n",
       "      <td>0.112368</td>\n",
       "      <td>-1.067877</td>\n",
       "      <td>0.394428</td>\n",
       "      <td>-0.584312</td>\n",
       "      <td>0.457947</td>\n",
       "      <td>0.572963</td>\n",
       "      <td>0.725523</td>\n",
       "      <td>-0.076679</td>\n",
       "      <td>-0.600139</td>\n",
       "      <td>-0.036818</td>\n",
       "      <td>0.571805</td>\n",
       "      <td>-1.090944</td>\n",
       "      <td>-1.226844</td>\n",
       "      <td>0.915499</td>\n",
       "      <td>-0.150504</td>\n",
       "      <td>0.185536</td>\n",
       "      <td>0.146765</td>\n",
       "      <td>-0.438200</td>\n",
       "    </tr>\n",
       "    <tr>\n",
       "      <th>96</th>\n",
       "      <td>1.829906</td>\n",
       "      <td>0.709932</td>\n",
       "      <td>0.759494</td>\n",
       "      <td>0.590494</td>\n",
       "      <td>-0.449346</td>\n",
       "      <td>0.755597</td>\n",
       "      <td>-1.136433</td>\n",
       "      <td>-0.952084</td>\n",
       "      <td>1.085251</td>\n",
       "      <td>1.077377</td>\n",
       "      <td>-1.425156</td>\n",
       "      <td>-1.102970</td>\n",
       "      <td>0.439127</td>\n",
       "      <td>0.690209</td>\n",
       "      <td>0.231198</td>\n",
       "      <td>-1.089551</td>\n",
       "      <td>-1.103216</td>\n",
       "      <td>0.834283</td>\n",
       "      <td>0.715333</td>\n",
       "      <td>-1.389550</td>\n",
       "    </tr>\n",
       "    <tr>\n",
       "      <th>97</th>\n",
       "      <td>-2.308039</td>\n",
       "      <td>-1.423689</td>\n",
       "      <td>1.142564</td>\n",
       "      <td>0.459782</td>\n",
       "      <td>-0.120889</td>\n",
       "      <td>-0.165523</td>\n",
       "      <td>0.428659</td>\n",
       "      <td>0.021172</td>\n",
       "      <td>-0.260561</td>\n",
       "      <td>-0.206331</td>\n",
       "      <td>0.327068</td>\n",
       "      <td>-0.691269</td>\n",
       "      <td>1.797919</td>\n",
       "      <td>0.391846</td>\n",
       "      <td>0.970792</td>\n",
       "      <td>0.814625</td>\n",
       "      <td>-2.514925</td>\n",
       "      <td>-0.247016</td>\n",
       "      <td>-0.379120</td>\n",
       "      <td>0.276103</td>\n",
       "    </tr>\n",
       "    <tr>\n",
       "      <th>98</th>\n",
       "      <td>-1.537029</td>\n",
       "      <td>2.149570</td>\n",
       "      <td>0.324554</td>\n",
       "      <td>-0.349094</td>\n",
       "      <td>0.988578</td>\n",
       "      <td>0.462844</td>\n",
       "      <td>0.121255</td>\n",
       "      <td>-0.889331</td>\n",
       "      <td>-0.242826</td>\n",
       "      <td>0.239045</td>\n",
       "      <td>0.503906</td>\n",
       "      <td>2.113824</td>\n",
       "      <td>0.913951</td>\n",
       "      <td>-0.311463</td>\n",
       "      <td>-1.239471</td>\n",
       "      <td>0.514865</td>\n",
       "      <td>0.505363</td>\n",
       "      <td>2.153233</td>\n",
       "      <td>1.319726</td>\n",
       "      <td>-0.879730</td>\n",
       "    </tr>\n",
       "    <tr>\n",
       "      <th>99</th>\n",
       "      <td>0.371670</td>\n",
       "      <td>-0.955432</td>\n",
       "      <td>-0.148490</td>\n",
       "      <td>-1.398813</td>\n",
       "      <td>-1.113436</td>\n",
       "      <td>-1.208147</td>\n",
       "      <td>0.644354</td>\n",
       "      <td>-0.459943</td>\n",
       "      <td>-0.067410</td>\n",
       "      <td>0.081768</td>\n",
       "      <td>1.853009</td>\n",
       "      <td>0.372457</td>\n",
       "      <td>0.513505</td>\n",
       "      <td>-1.180547</td>\n",
       "      <td>-0.514408</td>\n",
       "      <td>1.101000</td>\n",
       "      <td>-0.183400</td>\n",
       "      <td>-0.629442</td>\n",
       "      <td>0.142251</td>\n",
       "      <td>0.780027</td>\n",
       "    </tr>\n",
       "  </tbody>\n",
       "</table>\n",
       "<p>100 rows × 20 columns</p>\n",
       "</div>"
      ],
      "text/plain": [
       "          0         1         2         3         4         5         6   \\\n",
       "0   0.606548  0.816958  1.051321  1.657125 -0.459718 -0.588964  0.650323   \n",
       "1  -3.053764  0.921162 -1.458324  0.240506  0.612233 -0.513571 -0.192004   \n",
       "2   0.606404  0.680645  1.021248  1.495885  0.672620 -0.693833 -1.470237   \n",
       "3   1.616950 -1.515948  2.449369  0.623362  0.242669 -0.512259  0.129102   \n",
       "4  -0.828148 -1.569173  1.762609 -1.223880  1.127751 -0.921486 -0.447308   \n",
       "..       ...       ...       ...       ...       ...       ...       ...   \n",
       "95 -0.017818  0.752217  0.112368 -1.067877  0.394428 -0.584312  0.457947   \n",
       "96  1.829906  0.709932  0.759494  0.590494 -0.449346  0.755597 -1.136433   \n",
       "97 -2.308039 -1.423689  1.142564  0.459782 -0.120889 -0.165523  0.428659   \n",
       "98 -1.537029  2.149570  0.324554 -0.349094  0.988578  0.462844  0.121255   \n",
       "99  0.371670 -0.955432 -0.148490 -1.398813 -1.113436 -1.208147  0.644354   \n",
       "\n",
       "          7         8         9         10        11        12        13  \\\n",
       "0   0.050317  1.705484  1.417674 -0.737290  0.309817  0.778174 -1.124787   \n",
       "1   0.398598  0.744885 -0.999427  0.479852 -0.961264  0.578464 -1.070208   \n",
       "2   0.599213  2.428877  0.675454  2.293718 -0.214654 -1.019520 -1.204402   \n",
       "3   1.407540  0.201830 -0.434957  0.502741 -1.219744  0.109403 -0.024881   \n",
       "4  -0.982161  0.050293  0.558264 -0.110728  0.680979 -0.474590 -0.540548   \n",
       "..       ...       ...       ...       ...       ...       ...       ...   \n",
       "95  0.572963  0.725523 -0.076679 -0.600139 -0.036818  0.571805 -1.090944   \n",
       "96 -0.952084  1.085251  1.077377 -1.425156 -1.102970  0.439127  0.690209   \n",
       "97  0.021172 -0.260561 -0.206331  0.327068 -0.691269  1.797919  0.391846   \n",
       "98 -0.889331 -0.242826  0.239045  0.503906  2.113824  0.913951 -0.311463   \n",
       "99 -0.459943 -0.067410  0.081768  1.853009  0.372457  0.513505 -1.180547   \n",
       "\n",
       "          14        15        16        17        18        19  \n",
       "0  -1.283933  0.080751  0.094996 -0.364538  0.164665 -0.767804  \n",
       "1  -1.287740 -1.494194  0.494342  0.204377 -1.552699 -0.446699  \n",
       "2  -1.285590 -0.477124  0.524750  1.037039 -0.830011 -0.035990  \n",
       "3   0.676609 -0.198838 -0.545774 -0.203394  1.558806 -0.700399  \n",
       "4   0.284574  0.522655 -0.357514  0.098942 -0.429386 -0.355413  \n",
       "..       ...       ...       ...       ...       ...       ...  \n",
       "95 -1.226844  0.915499 -0.150504  0.185536  0.146765 -0.438200  \n",
       "96  0.231198 -1.089551 -1.103216  0.834283  0.715333 -1.389550  \n",
       "97  0.970792  0.814625 -2.514925 -0.247016 -0.379120  0.276103  \n",
       "98 -1.239471  0.514865  0.505363  2.153233  1.319726 -0.879730  \n",
       "99 -0.514408  1.101000 -0.183400 -0.629442  0.142251  0.780027  \n",
       "\n",
       "[100 rows x 20 columns]"
      ]
     },
     "execution_count": 11,
     "metadata": {},
     "output_type": "execute_result"
    }
   ],
   "source": [
    "from sklearn.feature_selection import VarianceThreshold\n",
    "\n",
    "selector = VarianceThreshold()\n",
    "s = selector.fit_transform(X)\n",
    "pd.DataFrame(s)"
   ]
  },
  {
   "cell_type": "markdown",
   "id": "e06b7c96",
   "metadata": {},
   "source": [
    "Признаков с дисперсией равной 0 не было найдено. Повысим планку отсечения признаков, до значения дисперсии равной P.\n",
    "\n",
    "Подберем значение P исходя из значений дисперсии по всем признакам."
   ]
  },
  {
   "cell_type": "code",
   "execution_count": 12,
   "id": "1c645322",
   "metadata": {},
   "outputs": [
    {
     "data": {
      "text/plain": [
       "0     1.695661\n",
       "1     1.079125\n",
       "2     1.327927\n",
       "3     0.779257\n",
       "4     0.962390\n",
       "5     0.809993\n",
       "6     0.908940\n",
       "7     1.085308\n",
       "8     0.982029\n",
       "9     0.952063\n",
       "10    1.162269\n",
       "11    0.997204\n",
       "12    1.059371\n",
       "13    1.310484\n",
       "14    1.174718\n",
       "15    0.906332\n",
       "16    0.973134\n",
       "17    0.895022\n",
       "18    1.014235\n",
       "19    0.934936\n",
       "dtype: float64"
      ]
     },
     "execution_count": 12,
     "metadata": {},
     "output_type": "execute_result"
    }
   ],
   "source": [
    "X.var() # выберем пороговое значение дисперсии равное 1"
   ]
  },
  {
   "cell_type": "code",
   "execution_count": 13,
   "id": "a9350a7f",
   "metadata": {},
   "outputs": [
    {
     "data": {
      "text/html": [
       "<div>\n",
       "<style scoped>\n",
       "    .dataframe tbody tr th:only-of-type {\n",
       "        vertical-align: middle;\n",
       "    }\n",
       "\n",
       "    .dataframe tbody tr th {\n",
       "        vertical-align: top;\n",
       "    }\n",
       "\n",
       "    .dataframe thead th {\n",
       "        text-align: right;\n",
       "    }\n",
       "</style>\n",
       "<table border=\"1\" class=\"dataframe\">\n",
       "  <thead>\n",
       "    <tr style=\"text-align: right;\">\n",
       "      <th></th>\n",
       "      <th>0</th>\n",
       "      <th>1</th>\n",
       "      <th>2</th>\n",
       "      <th>3</th>\n",
       "      <th>4</th>\n",
       "      <th>5</th>\n",
       "      <th>6</th>\n",
       "      <th>7</th>\n",
       "      <th>8</th>\n",
       "    </tr>\n",
       "  </thead>\n",
       "  <tbody>\n",
       "    <tr>\n",
       "      <th>0</th>\n",
       "      <td>0.606548</td>\n",
       "      <td>0.816958</td>\n",
       "      <td>1.051321</td>\n",
       "      <td>0.050317</td>\n",
       "      <td>-0.737290</td>\n",
       "      <td>0.778174</td>\n",
       "      <td>-1.124787</td>\n",
       "      <td>-1.283933</td>\n",
       "      <td>0.164665</td>\n",
       "    </tr>\n",
       "    <tr>\n",
       "      <th>1</th>\n",
       "      <td>-3.053764</td>\n",
       "      <td>0.921162</td>\n",
       "      <td>-1.458324</td>\n",
       "      <td>0.398598</td>\n",
       "      <td>0.479852</td>\n",
       "      <td>0.578464</td>\n",
       "      <td>-1.070208</td>\n",
       "      <td>-1.287740</td>\n",
       "      <td>-1.552699</td>\n",
       "    </tr>\n",
       "    <tr>\n",
       "      <th>2</th>\n",
       "      <td>0.606404</td>\n",
       "      <td>0.680645</td>\n",
       "      <td>1.021248</td>\n",
       "      <td>0.599213</td>\n",
       "      <td>2.293718</td>\n",
       "      <td>-1.019520</td>\n",
       "      <td>-1.204402</td>\n",
       "      <td>-1.285590</td>\n",
       "      <td>-0.830011</td>\n",
       "    </tr>\n",
       "    <tr>\n",
       "      <th>3</th>\n",
       "      <td>1.616950</td>\n",
       "      <td>-1.515948</td>\n",
       "      <td>2.449369</td>\n",
       "      <td>1.407540</td>\n",
       "      <td>0.502741</td>\n",
       "      <td>0.109403</td>\n",
       "      <td>-0.024881</td>\n",
       "      <td>0.676609</td>\n",
       "      <td>1.558806</td>\n",
       "    </tr>\n",
       "    <tr>\n",
       "      <th>4</th>\n",
       "      <td>-0.828148</td>\n",
       "      <td>-1.569173</td>\n",
       "      <td>1.762609</td>\n",
       "      <td>-0.982161</td>\n",
       "      <td>-0.110728</td>\n",
       "      <td>-0.474590</td>\n",
       "      <td>-0.540548</td>\n",
       "      <td>0.284574</td>\n",
       "      <td>-0.429386</td>\n",
       "    </tr>\n",
       "  </tbody>\n",
       "</table>\n",
       "</div>"
      ],
      "text/plain": [
       "          0         1         2         3         4         5         6  \\\n",
       "0  0.606548  0.816958  1.051321  0.050317 -0.737290  0.778174 -1.124787   \n",
       "1 -3.053764  0.921162 -1.458324  0.398598  0.479852  0.578464 -1.070208   \n",
       "2  0.606404  0.680645  1.021248  0.599213  2.293718 -1.019520 -1.204402   \n",
       "3  1.616950 -1.515948  2.449369  1.407540  0.502741  0.109403 -0.024881   \n",
       "4 -0.828148 -1.569173  1.762609 -0.982161 -0.110728 -0.474590 -0.540548   \n",
       "\n",
       "          7         8  \n",
       "0 -1.283933  0.164665  \n",
       "1 -1.287740 -1.552699  \n",
       "2 -1.285590 -0.830011  \n",
       "3  0.676609  1.558806  \n",
       "4  0.284574 -0.429386  "
      ]
     },
     "execution_count": 13,
     "metadata": {},
     "output_type": "execute_result"
    }
   ],
   "source": [
    "P = 1\n",
    "selector = VarianceThreshold(threshold=P)\n",
    "s = selector.fit_transform(X)\n",
    "X = pd.DataFrame(s)\n",
    "X.head()"
   ]
  },
  {
   "cell_type": "markdown",
   "id": "2cca485f",
   "metadata": {},
   "source": [
    "Осталось 9 признаков."
   ]
  },
  {
   "cell_type": "code",
   "execution_count": 14,
   "id": "915e2bfc",
   "metadata": {},
   "outputs": [
    {
     "name": "stdout",
     "output_type": "stream",
     "text": [
      "0.9400000000000001\n",
      "9\n"
     ]
    }
   ],
   "source": [
    "print(VarianceThreshold_features:=cross_val_score(LogisticRegression(), X, y, scoring='accuracy').mean())\n",
    "print(len_2 := len(X.columns))"
   ]
  },
  {
   "cell_type": "markdown",
   "id": "a84ffc18",
   "metadata": {},
   "source": [
    "Точность модели после удаления низковариативных признаков улучшилась с 0.90 до 0.94."
   ]
  },
  {
   "cell_type": "markdown",
   "id": "98d3d704",
   "metadata": {},
   "source": [
    "## SelectKBest"
   ]
  },
  {
   "cell_type": "code",
   "execution_count": 15,
   "id": "4ff54bb4",
   "metadata": {},
   "outputs": [],
   "source": [
    "from sklearn.feature_selection import SelectKBest\n",
    "from sklearn.feature_selection import f_classif"
   ]
  },
  {
   "cell_type": "code",
   "execution_count": 16,
   "id": "27fcec6c",
   "metadata": {},
   "outputs": [],
   "source": [
    "X = df.copy()\n",
    "del X[20]"
   ]
  },
  {
   "cell_type": "code",
   "execution_count": 17,
   "id": "243abee7",
   "metadata": {},
   "outputs": [
    {
     "name": "stdout",
     "output_type": "stream",
     "text": [
      "Список лучших признаков: x1, x5, x6, x7, x14\n"
     ]
    },
    {
     "data": {
      "text/html": [
       "<div>\n",
       "<style scoped>\n",
       "    .dataframe tbody tr th:only-of-type {\n",
       "        vertical-align: middle;\n",
       "    }\n",
       "\n",
       "    .dataframe tbody tr th {\n",
       "        vertical-align: top;\n",
       "    }\n",
       "\n",
       "    .dataframe thead th {\n",
       "        text-align: right;\n",
       "    }\n",
       "</style>\n",
       "<table border=\"1\" class=\"dataframe\">\n",
       "  <thead>\n",
       "    <tr style=\"text-align: right;\">\n",
       "      <th></th>\n",
       "      <th>0</th>\n",
       "      <th>1</th>\n",
       "      <th>2</th>\n",
       "      <th>3</th>\n",
       "      <th>4</th>\n",
       "    </tr>\n",
       "  </thead>\n",
       "  <tbody>\n",
       "    <tr>\n",
       "      <th>0</th>\n",
       "      <td>0.816958</td>\n",
       "      <td>-0.588964</td>\n",
       "      <td>0.650323</td>\n",
       "      <td>0.050317</td>\n",
       "      <td>-1.283933</td>\n",
       "    </tr>\n",
       "    <tr>\n",
       "      <th>1</th>\n",
       "      <td>0.921162</td>\n",
       "      <td>-0.513571</td>\n",
       "      <td>-0.192004</td>\n",
       "      <td>0.398598</td>\n",
       "      <td>-1.287740</td>\n",
       "    </tr>\n",
       "    <tr>\n",
       "      <th>2</th>\n",
       "      <td>0.680645</td>\n",
       "      <td>-0.693833</td>\n",
       "      <td>-1.470237</td>\n",
       "      <td>0.599213</td>\n",
       "      <td>-1.285590</td>\n",
       "    </tr>\n",
       "    <tr>\n",
       "      <th>3</th>\n",
       "      <td>-1.515948</td>\n",
       "      <td>-0.512259</td>\n",
       "      <td>0.129102</td>\n",
       "      <td>1.407540</td>\n",
       "      <td>0.676609</td>\n",
       "    </tr>\n",
       "    <tr>\n",
       "      <th>4</th>\n",
       "      <td>-1.569173</td>\n",
       "      <td>-0.921486</td>\n",
       "      <td>-0.447308</td>\n",
       "      <td>-0.982161</td>\n",
       "      <td>0.284574</td>\n",
       "    </tr>\n",
       "  </tbody>\n",
       "</table>\n",
       "</div>"
      ],
      "text/plain": [
       "          0         1         2         3         4\n",
       "0  0.816958 -0.588964  0.650323  0.050317 -1.283933\n",
       "1  0.921162 -0.513571 -0.192004  0.398598 -1.287740\n",
       "2  0.680645 -0.693833 -1.470237  0.599213 -1.285590\n",
       "3 -1.515948 -0.512259  0.129102  1.407540  0.676609\n",
       "4 -1.569173 -0.921486 -0.447308 -0.982161  0.284574"
      ]
     },
     "execution_count": 17,
     "metadata": {},
     "output_type": "execute_result"
    }
   ],
   "source": [
    "selector = SelectKBest(f_classif, k=5).fit(X,y)\n",
    "print(f'Список лучших признаков: {\", \".join(selector.get_feature_names_out())}')\n",
    "X = pd.DataFrame(selector.transform(X))\n",
    "X.head()"
   ]
  },
  {
   "cell_type": "code",
   "execution_count": 18,
   "id": "038c2b33",
   "metadata": {},
   "outputs": [
    {
     "name": "stdout",
     "output_type": "stream",
     "text": [
      "0.96\n",
      "5\n"
     ]
    }
   ],
   "source": [
    "print(SelectKBest_features:=cross_val_score(LogisticRegression(), X, y, scoring='accuracy').mean())\n",
    "print(len_3 := len(X.columns))"
   ]
  },
  {
   "cell_type": "markdown",
   "id": "3fa2ab4b",
   "metadata": {},
   "source": [
    "Точность модели улучшилась с 0.90 до 0.96."
   ]
  },
  {
   "cell_type": "markdown",
   "id": "1bb3c18e",
   "metadata": {},
   "source": [
    "## SelectFromModel"
   ]
  },
  {
   "cell_type": "code",
   "execution_count": 19,
   "id": "ee1789bf",
   "metadata": {},
   "outputs": [],
   "source": [
    "from sklearn.feature_selection import SelectFromModel\n",
    "X = df.copy()\n",
    "del X[20]"
   ]
  },
  {
   "cell_type": "code",
   "execution_count": 20,
   "id": "41cf7531",
   "metadata": {},
   "outputs": [],
   "source": [
    "selector = SelectFromModel(estimator=LogisticRegression(penalty='l1', solver='liblinear')).fit(X, y)"
   ]
  },
  {
   "cell_type": "code",
   "execution_count": 21,
   "id": "86221457",
   "metadata": {},
   "outputs": [
    {
     "data": {
      "text/plain": [
       "0.2529715156515596"
      ]
     },
     "execution_count": 21,
     "metadata": {},
     "output_type": "execute_result"
    }
   ],
   "source": [
    "np.mean(selector.estimator_.coef_[0])"
   ]
  },
  {
   "cell_type": "code",
   "execution_count": 22,
   "id": "892ec1fa",
   "metadata": {},
   "outputs": [
    {
     "data": {
      "text/plain": [
       "1e-05"
      ]
     },
     "execution_count": 22,
     "metadata": {},
     "output_type": "execute_result"
    }
   ],
   "source": [
    "selector.threshold_"
   ]
  },
  {
   "cell_type": "code",
   "execution_count": 23,
   "id": "d8bd5654",
   "metadata": {},
   "outputs": [
    {
     "data": {
      "text/plain": [
       "array([ True,  True, False, False, False, False, False,  True,  True,\n",
       "        True, False, False, False, False,  True, False,  True, False,\n",
       "        True, False])"
      ]
     },
     "execution_count": 23,
     "metadata": {},
     "output_type": "execute_result"
    }
   ],
   "source": [
    "selector.get_support()"
   ]
  },
  {
   "cell_type": "code",
   "execution_count": 24,
   "id": "4ed3b2fd",
   "metadata": {},
   "outputs": [
    {
     "name": "stdout",
     "output_type": "stream",
     "text": [
      "Список лучших признаков: x0, x1, x7, x8, x9, x14, x16, x18\n"
     ]
    }
   ],
   "source": [
    "print(f'Список лучших признаков: {\", \".join(selector.get_feature_names_out())}')"
   ]
  },
  {
   "cell_type": "code",
   "execution_count": 25,
   "id": "6bd5eac0",
   "metadata": {},
   "outputs": [
    {
     "data": {
      "text/html": [
       "<div>\n",
       "<style scoped>\n",
       "    .dataframe tbody tr th:only-of-type {\n",
       "        vertical-align: middle;\n",
       "    }\n",
       "\n",
       "    .dataframe tbody tr th {\n",
       "        vertical-align: top;\n",
       "    }\n",
       "\n",
       "    .dataframe thead th {\n",
       "        text-align: right;\n",
       "    }\n",
       "</style>\n",
       "<table border=\"1\" class=\"dataframe\">\n",
       "  <thead>\n",
       "    <tr style=\"text-align: right;\">\n",
       "      <th></th>\n",
       "      <th>0</th>\n",
       "      <th>1</th>\n",
       "      <th>2</th>\n",
       "      <th>3</th>\n",
       "      <th>4</th>\n",
       "      <th>5</th>\n",
       "      <th>6</th>\n",
       "      <th>7</th>\n",
       "    </tr>\n",
       "  </thead>\n",
       "  <tbody>\n",
       "    <tr>\n",
       "      <th>0</th>\n",
       "      <td>0.606548</td>\n",
       "      <td>0.816958</td>\n",
       "      <td>0.050317</td>\n",
       "      <td>1.705484</td>\n",
       "      <td>1.417674</td>\n",
       "      <td>-1.283933</td>\n",
       "      <td>0.094996</td>\n",
       "      <td>0.164665</td>\n",
       "    </tr>\n",
       "    <tr>\n",
       "      <th>1</th>\n",
       "      <td>-3.053764</td>\n",
       "      <td>0.921162</td>\n",
       "      <td>0.398598</td>\n",
       "      <td>0.744885</td>\n",
       "      <td>-0.999427</td>\n",
       "      <td>-1.287740</td>\n",
       "      <td>0.494342</td>\n",
       "      <td>-1.552699</td>\n",
       "    </tr>\n",
       "    <tr>\n",
       "      <th>2</th>\n",
       "      <td>0.606404</td>\n",
       "      <td>0.680645</td>\n",
       "      <td>0.599213</td>\n",
       "      <td>2.428877</td>\n",
       "      <td>0.675454</td>\n",
       "      <td>-1.285590</td>\n",
       "      <td>0.524750</td>\n",
       "      <td>-0.830011</td>\n",
       "    </tr>\n",
       "    <tr>\n",
       "      <th>3</th>\n",
       "      <td>1.616950</td>\n",
       "      <td>-1.515948</td>\n",
       "      <td>1.407540</td>\n",
       "      <td>0.201830</td>\n",
       "      <td>-0.434957</td>\n",
       "      <td>0.676609</td>\n",
       "      <td>-0.545774</td>\n",
       "      <td>1.558806</td>\n",
       "    </tr>\n",
       "    <tr>\n",
       "      <th>4</th>\n",
       "      <td>-0.828148</td>\n",
       "      <td>-1.569173</td>\n",
       "      <td>-0.982161</td>\n",
       "      <td>0.050293</td>\n",
       "      <td>0.558264</td>\n",
       "      <td>0.284574</td>\n",
       "      <td>-0.357514</td>\n",
       "      <td>-0.429386</td>\n",
       "    </tr>\n",
       "  </tbody>\n",
       "</table>\n",
       "</div>"
      ],
      "text/plain": [
       "          0         1         2         3         4         5         6  \\\n",
       "0  0.606548  0.816958  0.050317  1.705484  1.417674 -1.283933  0.094996   \n",
       "1 -3.053764  0.921162  0.398598  0.744885 -0.999427 -1.287740  0.494342   \n",
       "2  0.606404  0.680645  0.599213  2.428877  0.675454 -1.285590  0.524750   \n",
       "3  1.616950 -1.515948  1.407540  0.201830 -0.434957  0.676609 -0.545774   \n",
       "4 -0.828148 -1.569173 -0.982161  0.050293  0.558264  0.284574 -0.357514   \n",
       "\n",
       "          7  \n",
       "0  0.164665  \n",
       "1 -1.552699  \n",
       "2 -0.830011  \n",
       "3  1.558806  \n",
       "4 -0.429386  "
      ]
     },
     "execution_count": 25,
     "metadata": {},
     "output_type": "execute_result"
    }
   ],
   "source": [
    "X = pd.DataFrame(selector.transform(X))\n",
    "X.head()"
   ]
  },
  {
   "cell_type": "code",
   "execution_count": 26,
   "id": "0876b955",
   "metadata": {},
   "outputs": [
    {
     "name": "stdout",
     "output_type": "stream",
     "text": [
      "0.95\n",
      "8\n"
     ]
    }
   ],
   "source": [
    "print(SelectFromModel_features:=cross_val_score(LogisticRegression(), X, y, scoring='accuracy').mean())\n",
    "print(len_4 := len(X.columns))"
   ]
  },
  {
   "cell_type": "markdown",
   "id": "090e2ee2",
   "metadata": {},
   "source": [
    "Точность модели улучшилась с 0.90 до 0.95."
   ]
  },
  {
   "cell_type": "markdown",
   "id": "1f57c00b",
   "metadata": {},
   "source": [
    "## RandomForestClassifier & feature_impotance"
   ]
  },
  {
   "cell_type": "code",
   "execution_count": 27,
   "id": "fa2a5651",
   "metadata": {},
   "outputs": [],
   "source": [
    "from sklearn.ensemble import RandomForestClassifier"
   ]
  },
  {
   "cell_type": "code",
   "execution_count": 28,
   "id": "d642c6db",
   "metadata": {},
   "outputs": [
    {
     "data": {
      "text/plain": [
       "RandomForestClassifier(max_depth=2, random_state=13)"
      ]
     },
     "execution_count": 28,
     "metadata": {},
     "output_type": "execute_result"
    }
   ],
   "source": [
    "X = df.copy()\n",
    "del X[20]\n",
    "\n",
    "clf = RandomForestClassifier(max_depth=2, random_state=13)\n",
    "clf.fit(X,y)"
   ]
  },
  {
   "cell_type": "code",
   "execution_count": 29,
   "id": "8e95d28e",
   "metadata": {},
   "outputs": [],
   "source": [
    "imp = pd.Series(clf.feature_importances_)\n",
    "imp.index = list(map(str, list(imp.index)))"
   ]
  },
  {
   "cell_type": "code",
   "execution_count": 30,
   "id": "896ec0c3",
   "metadata": {},
   "outputs": [
    {
     "data": {
      "text/plain": [
       "1     0.324561\n",
       "14    0.153201\n",
       "5     0.144472\n",
       "7     0.064237\n",
       "13    0.049432\n",
       "6     0.039865\n",
       "11    0.027866\n",
       "16    0.027219\n",
       "8     0.021397\n",
       "3     0.019644\n",
       "19    0.019521\n",
       "12    0.017162\n",
       "17    0.016397\n",
       "4     0.015293\n",
       "2     0.013598\n",
       "0     0.013350\n",
       "9     0.013200\n",
       "18    0.010370\n",
       "10    0.007131\n",
       "15    0.002085\n",
       "dtype: float64"
      ]
     },
     "execution_count": 30,
     "metadata": {},
     "output_type": "execute_result"
    }
   ],
   "source": [
    "imp.sort_values(ascending=False)"
   ]
  },
  {
   "cell_type": "code",
   "execution_count": 31,
   "id": "9ddd687c",
   "metadata": {},
   "outputs": [
    {
     "data": {
      "image/png": "[encoded data removed]",
      "text/plain": [
       "<Figure size 640x480 with 1 Axes>"
      ]
     },
     "metadata": {},
     "output_type": "display_data"
    }
   ],
   "source": [
    "plt.title('Top 5 feature importances')\n",
    "plt.xlabel('Features')\n",
    "plt.ylabel('Gini')\n",
    "plt.bar(imp.sort_values(ascending=False).index[0:5], imp.sort_values(ascending=False)[0:5])\n",
    "plt.show()"
   ]
  },
  {
   "cell_type": "code",
   "execution_count": 32,
   "id": "2bdccdf9",
   "metadata": {},
   "outputs": [
    {
     "data": {
      "text/html": [
       "<div>\n",
       "<style scoped>\n",
       "    .dataframe tbody tr th:only-of-type {\n",
       "        vertical-align: middle;\n",
       "    }\n",
       "\n",
       "    .dataframe tbody tr th {\n",
       "        vertical-align: top;\n",
       "    }\n",
       "\n",
       "    .dataframe thead th {\n",
       "        text-align: right;\n",
       "    }\n",
       "</style>\n",
       "<table border=\"1\" class=\"dataframe\">\n",
       "  <thead>\n",
       "    <tr style=\"text-align: right;\">\n",
       "      <th></th>\n",
       "      <th>1</th>\n",
       "      <th>14</th>\n",
       "      <th>5</th>\n",
       "      <th>7</th>\n",
       "      <th>13</th>\n",
       "    </tr>\n",
       "  </thead>\n",
       "  <tbody>\n",
       "    <tr>\n",
       "      <th>0</th>\n",
       "      <td>0.816958</td>\n",
       "      <td>-1.283933</td>\n",
       "      <td>-0.588964</td>\n",
       "      <td>0.050317</td>\n",
       "      <td>-1.124787</td>\n",
       "    </tr>\n",
       "    <tr>\n",
       "      <th>1</th>\n",
       "      <td>0.921162</td>\n",
       "      <td>-1.287740</td>\n",
       "      <td>-0.513571</td>\n",
       "      <td>0.398598</td>\n",
       "      <td>-1.070208</td>\n",
       "    </tr>\n",
       "    <tr>\n",
       "      <th>2</th>\n",
       "      <td>0.680645</td>\n",
       "      <td>-1.285590</td>\n",
       "      <td>-0.693833</td>\n",
       "      <td>0.599213</td>\n",
       "      <td>-1.204402</td>\n",
       "    </tr>\n",
       "    <tr>\n",
       "      <th>3</th>\n",
       "      <td>-1.515948</td>\n",
       "      <td>0.676609</td>\n",
       "      <td>-0.512259</td>\n",
       "      <td>1.407540</td>\n",
       "      <td>-0.024881</td>\n",
       "    </tr>\n",
       "    <tr>\n",
       "      <th>4</th>\n",
       "      <td>-1.569173</td>\n",
       "      <td>0.284574</td>\n",
       "      <td>-0.921486</td>\n",
       "      <td>-0.982161</td>\n",
       "      <td>-0.540548</td>\n",
       "    </tr>\n",
       "  </tbody>\n",
       "</table>\n",
       "</div>"
      ],
      "text/plain": [
       "         1         14        5         7         13\n",
       "0  0.816958 -1.283933 -0.588964  0.050317 -1.124787\n",
       "1  0.921162 -1.287740 -0.513571  0.398598 -1.070208\n",
       "2  0.680645 -1.285590 -0.693833  0.599213 -1.204402\n",
       "3 -1.515948  0.676609 -0.512259  1.407540 -0.024881\n",
       "4 -1.569173  0.284574 -0.921486 -0.982161 -0.540548"
      ]
     },
     "execution_count": 32,
     "metadata": {},
     "output_type": "execute_result"
    }
   ],
   "source": [
    "indexes = list(map(int, imp.sort_values(ascending=False).index[0:5]))\n",
    "X = X[indexes]\n",
    "X.head()"
   ]
  },
  {
   "cell_type": "code",
   "execution_count": 33,
   "id": "caea5a7e",
   "metadata": {},
   "outputs": [
    {
     "name": "stdout",
     "output_type": "stream",
     "text": [
      "0.96\n",
      "5\n"
     ]
    }
   ],
   "source": [
    "print(R_Forest_importances_features:=cross_val_score(LogisticRegression(), X, y, scoring='accuracy').mean())\n",
    "print(len_5 := len(X.columns))"
   ]
  },
  {
   "cell_type": "markdown",
   "id": "47fe4ae1",
   "metadata": {},
   "source": [
    "Точность модели улучшилась с 0.90 до 0.96."
   ]
  },
  {
   "cell_type": "markdown",
   "id": "4f47319e",
   "metadata": {},
   "source": [
    "### SequentialFeatureSelector"
   ]
  },
  {
   "cell_type": "code",
   "execution_count": 34,
   "id": "4d20c583",
   "metadata": {},
   "outputs": [],
   "source": [
    "from sklearn.feature_selection import SequentialFeatureSelector"
   ]
  },
  {
   "cell_type": "code",
   "execution_count": 35,
   "id": "398b0447",
   "metadata": {},
   "outputs": [],
   "source": [
    "X = df.copy()\n",
    "del X[20]"
   ]
  },
  {
   "cell_type": "code",
   "execution_count": 36,
   "id": "4d79f5a8",
   "metadata": {},
   "outputs": [],
   "source": [
    "sfs = SequentialFeatureSelector(LogisticRegression(), n_features_to_select=3)"
   ]
  },
  {
   "cell_type": "code",
   "execution_count": 37,
   "id": "13545992",
   "metadata": {},
   "outputs": [
    {
     "data": {
      "text/plain": [
       "SequentialFeatureSelector(estimator=LogisticRegression(),\n",
       "                          n_features_to_select=3)"
      ]
     },
     "execution_count": 37,
     "metadata": {},
     "output_type": "execute_result"
    }
   ],
   "source": [
    "sfs.fit(X,y)"
   ]
  },
  {
   "cell_type": "code",
   "execution_count": 38,
   "id": "fd5772d9",
   "metadata": {},
   "outputs": [
    {
     "data": {
      "text/plain": [
       "array([ True,  True, False,  True, False, False, False, False, False,\n",
       "       False, False, False, False, False, False, False, False, False,\n",
       "       False, False])"
      ]
     },
     "execution_count": 38,
     "metadata": {},
     "output_type": "execute_result"
    }
   ],
   "source": [
    "sfs.get_support()"
   ]
  },
  {
   "cell_type": "code",
   "execution_count": 39,
   "id": "f44ee8c1",
   "metadata": {},
   "outputs": [
    {
     "data": {
      "text/html": [
       "<div>\n",
       "<style scoped>\n",
       "    .dataframe tbody tr th:only-of-type {\n",
       "        vertical-align: middle;\n",
       "    }\n",
       "\n",
       "    .dataframe tbody tr th {\n",
       "        vertical-align: top;\n",
       "    }\n",
       "\n",
       "    .dataframe thead th {\n",
       "        text-align: right;\n",
       "    }\n",
       "</style>\n",
       "<table border=\"1\" class=\"dataframe\">\n",
       "  <thead>\n",
       "    <tr style=\"text-align: right;\">\n",
       "      <th></th>\n",
       "      <th>0</th>\n",
       "      <th>1</th>\n",
       "      <th>2</th>\n",
       "    </tr>\n",
       "  </thead>\n",
       "  <tbody>\n",
       "    <tr>\n",
       "      <th>0</th>\n",
       "      <td>0.606548</td>\n",
       "      <td>0.816958</td>\n",
       "      <td>1.657125</td>\n",
       "    </tr>\n",
       "    <tr>\n",
       "      <th>1</th>\n",
       "      <td>-3.053764</td>\n",
       "      <td>0.921162</td>\n",
       "      <td>0.240506</td>\n",
       "    </tr>\n",
       "    <tr>\n",
       "      <th>2</th>\n",
       "      <td>0.606404</td>\n",
       "      <td>0.680645</td>\n",
       "      <td>1.495885</td>\n",
       "    </tr>\n",
       "    <tr>\n",
       "      <th>3</th>\n",
       "      <td>1.616950</td>\n",
       "      <td>-1.515948</td>\n",
       "      <td>0.623362</td>\n",
       "    </tr>\n",
       "    <tr>\n",
       "      <th>4</th>\n",
       "      <td>-0.828148</td>\n",
       "      <td>-1.569173</td>\n",
       "      <td>-1.223880</td>\n",
       "    </tr>\n",
       "  </tbody>\n",
       "</table>\n",
       "</div>"
      ],
      "text/plain": [
       "          0         1         2\n",
       "0  0.606548  0.816958  1.657125\n",
       "1 -3.053764  0.921162  0.240506\n",
       "2  0.606404  0.680645  1.495885\n",
       "3  1.616950 -1.515948  0.623362\n",
       "4 -0.828148 -1.569173 -1.223880"
      ]
     },
     "execution_count": 39,
     "metadata": {},
     "output_type": "execute_result"
    }
   ],
   "source": [
    "X = pd.DataFrame(sfs.transform(X))\n",
    "X.head()"
   ]
  },
  {
   "cell_type": "code",
   "execution_count": 40,
   "id": "4ba90f15",
   "metadata": {},
   "outputs": [
    {
     "name": "stdout",
     "output_type": "stream",
     "text": [
      "0.96\n",
      "3\n"
     ]
    }
   ],
   "source": [
    "print(SequentialFeatureSelector_features:=cross_val_score(LogisticRegression(), X, y, scoring='accuracy').mean())\n",
    "print(len_6 := len(X.columns))"
   ]
  },
  {
   "cell_type": "markdown",
   "id": "6d442787",
   "metadata": {},
   "source": [
    "Точность модели улучшилась с 0.90 до 0.96."
   ]
  },
  {
   "cell_type": "markdown",
   "id": "c0e7c782",
   "metadata": {},
   "source": [
    "## Выводы:"
   ]
  },
  {
   "cell_type": "code",
   "execution_count": 41,
   "id": "01a2a4bb",
   "metadata": {},
   "outputs": [],
   "source": [
    "pivot_table = {\n",
    "'all_features': [all_features, len_0],\n",
    "'corr_table_features': [corr_table_features, len_1],\n",
    "'VarianceThreshold_features': [VarianceThreshold_features, len_2],\n",
    "'SelectKBest_features': [SelectKBest_features, len_3],\n",
    "'SelectFromModel_features': [SelectFromModel_features, len_4],\n",
    "'R_Forest_importances_features': [R_Forest_importances_features, len_5],\n",
    "'SequentialFeatureSelector_features': [SequentialFeatureSelector_features, len_6]\n",
    "}"
   ]
  },
  {
   "cell_type": "code",
   "execution_count": 42,
   "id": "e9a8f392",
   "metadata": {},
   "outputs": [],
   "source": [
    "pivot_table = pd.DataFrame(pivot_table).transpose()\n",
    "pivot_table.columns = ['average accuracy', 'number of features']"
   ]
  },
  {
   "cell_type": "code",
   "execution_count": 43,
   "id": "d9c392b3",
   "metadata": {},
   "outputs": [
    {
     "data": {
      "text/html": [
       "<div>\n",
       "<style scoped>\n",
       "    .dataframe tbody tr th:only-of-type {\n",
       "        vertical-align: middle;\n",
       "    }\n",
       "\n",
       "    .dataframe tbody tr th {\n",
       "        vertical-align: top;\n",
       "    }\n",
       "\n",
       "    .dataframe thead th {\n",
       "        text-align: right;\n",
       "    }\n",
       "</style>\n",
       "<table border=\"1\" class=\"dataframe\">\n",
       "  <thead>\n",
       "    <tr style=\"text-align: right;\">\n",
       "      <th></th>\n",
       "      <th>average accuracy</th>\n",
       "      <th>number of features</th>\n",
       "    </tr>\n",
       "  </thead>\n",
       "  <tbody>\n",
       "    <tr>\n",
       "      <th>all_features</th>\n",
       "      <td>0.90</td>\n",
       "      <td>20.0</td>\n",
       "    </tr>\n",
       "    <tr>\n",
       "      <th>corr_table_features</th>\n",
       "      <td>0.96</td>\n",
       "      <td>14.0</td>\n",
       "    </tr>\n",
       "    <tr>\n",
       "      <th>VarianceThreshold_features</th>\n",
       "      <td>0.94</td>\n",
       "      <td>9.0</td>\n",
       "    </tr>\n",
       "    <tr>\n",
       "      <th>SelectKBest_features</th>\n",
       "      <td>0.96</td>\n",
       "      <td>5.0</td>\n",
       "    </tr>\n",
       "    <tr>\n",
       "      <th>SelectFromModel_features</th>\n",
       "      <td>0.95</td>\n",
       "      <td>8.0</td>\n",
       "    </tr>\n",
       "    <tr>\n",
       "      <th>R_Forest_importances_features</th>\n",
       "      <td>0.96</td>\n",
       "      <td>5.0</td>\n",
       "    </tr>\n",
       "    <tr>\n",
       "      <th>SequentialFeatureSelector_features</th>\n",
       "      <td>0.96</td>\n",
       "      <td>3.0</td>\n",
       "    </tr>\n",
       "  </tbody>\n",
       "</table>\n",
       "</div>"
      ],
      "text/plain": [
       "                                    average accuracy  number of features\n",
       "all_features                                    0.90                20.0\n",
       "corr_table_features                             0.96                14.0\n",
       "VarianceThreshold_features                      0.94                 9.0\n",
       "SelectKBest_features                            0.96                 5.0\n",
       "SelectFromModel_features                        0.95                 8.0\n",
       "R_Forest_importances_features                   0.96                 5.0\n",
       "SequentialFeatureSelector_features              0.96                 3.0"
      ]
     },
     "execution_count": 43,
     "metadata": {},
     "output_type": "execute_result"
    }
   ],
   "source": [
    "pivot_table"
   ]
  },
  {
   "cell_type": "markdown",
   "id": "bfd83409",
   "metadata": {},
   "source": [
    "Выявленные недостатки моделей:\n",
    "\n",
    "Таблица корреляции: ручной поиск корреляций между признками;\n",
    "\n",
    "VarianceThreshold: необходимость подбора значения дисперсии (threshold)."
   ]
  }
 ],
 "metadata": {
  "kernelspec": {
   "display_name": "Python 3 (ipykernel)",
   "language": "python",
   "name": "python3"
  },
  "language_info": {
   "codemirror_mode": {
    "name": "ipython",
    "version": 3
   },
   "file_extension": ".py",
   "mimetype": "text/x-python",
   "name": "python",
   "nbconvert_exporter": "python",
   "pygments_lexer": "ipython3",
   "version": "3.11.5"
  }
 },
 "nbformat": 4,
 "nbformat_minor": 5
}
