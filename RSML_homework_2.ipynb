{
 "cells": [
  {
   "cell_type": "markdown",
   "metadata": {
    "id": "yDGE6yp1JFgM"
   },
   "source": [
    "https://grouplens.org/datasets/movielens/latest/"
   ]
  },
  {
   "cell_type": "code",
   "execution_count": null,
   "metadata": {
    "id": "6rCh0StKJOHV"
   },
   "outputs": [],
   "source": [
    "import pandas as pd\n",
    "import numpy as np\n",
    "from collections import Counter\n",
    "from datetime import datetime\n",
    "from tqdm.notebook import tqdm\n",
    "import matplotlib.pyplot as plt"
   ]
  },
  {
   "cell_type": "code",
   "execution_count": null,
   "metadata": {
    "colab": {
     "base_uri": "https://localhost:8080/"
    },
    "id": "4Yjw5mWKJVRe",
    "outputId": "9a7545b5-8095-4c42-918a-fde0ceaee065"
   },
   "outputs": [
    {
     "name": "stdout",
     "output_type": "stream",
     "text": [
      "Downloading...\n",
      "From: https://drive.google.com/uc?id=1r9WD2Pe9MFB3yPBvrcT0Owhmb8JtUuwO\n",
      "To: /content/MovieLens.zip\n",
      "\r",
      "  0% 0.00/978k [00:00<?, ?B/s]\r",
      "100% 978k/978k [00:00<00:00, 97.9MB/s]\n"
     ]
    }
   ],
   "source": [
    "!gdown 1r9WD2Pe9MFB3yPBvrcT0Owhmb8JtUuwO -O MovieLens.zip"
   ]
  },
  {
   "cell_type": "code",
   "execution_count": null,
   "metadata": {
    "colab": {
     "base_uri": "https://localhost:8080/"
    },
    "id": "ek0LwOIcJb8x",
    "outputId": "77ce7134-3aa9-4a10-9fc9-2e0c2c76e6d9"
   },
   "outputs": [
    {
     "name": "stdout",
     "output_type": "stream",
     "text": [
      "Archive:  MovieLens.zip\n",
      "replace ml-latest-small/links.csv? [y]es, [n]o, [A]ll, [N]one, [r]ename: A\n",
      "  inflating: ml-latest-small/links.csv  \n",
      "  inflating: ml-latest-small/tags.csv  \n",
      "  inflating: ml-latest-small/ratings.csv  \n",
      "  inflating: ml-latest-small/README.txt  \n",
      "  inflating: ml-latest-small/movies.csv  \n"
     ]
    }
   ],
   "source": [
    "!unzip MovieLens.zip"
   ]
  },
  {
   "cell_type": "code",
   "execution_count": null,
   "metadata": {
    "id": "9GLoIVp7J3ul"
   },
   "outputs": [],
   "source": [
    "links = pd.read_csv('/content/ml-latest-small/links.csv')\n",
    "movies = pd.read_csv('/content/ml-latest-small/movies.csv')\n",
    "ratings = pd.read_csv('/content/ml-latest-small/ratings.csv')\n",
    "tags = pd.read_csv('/content/ml-latest-small/tags.csv')"
   ]
  },
  {
   "cell_type": "code",
   "execution_count": null,
   "metadata": {
    "colab": {
     "base_uri": "https://localhost:8080/",
     "height": 206
    },
    "id": "bcYs9Y87KSM6",
    "outputId": "d44b1186-ca13-426f-e360-661ecd128491"
   },
   "outputs": [
    {
     "data": {
      "text/html": [
       "\n",
       "  <div id=\"df-d2489b60-330e-435c-a4a9-d9cfcdeb4ba6\">\n",
       "    <div class=\"colab-df-container\">\n",
       "      <div>\n",
       "<style scoped>\n",
       "    .dataframe tbody tr th:only-of-type {\n",
       "        vertical-align: middle;\n",
       "    }\n",
       "\n",
       "    .dataframe tbody tr th {\n",
       "        vertical-align: top;\n",
       "    }\n",
       "\n",
       "    .dataframe thead th {\n",
       "        text-align: right;\n",
       "    }\n",
       "</style>\n",
       "<table border=\"1\" class=\"dataframe\">\n",
       "  <thead>\n",
       "    <tr style=\"text-align: right;\">\n",
       "      <th></th>\n",
       "      <th>userId</th>\n",
       "      <th>movieId</th>\n",
       "      <th>rating</th>\n",
       "      <th>timestamp</th>\n",
       "      <th>title</th>\n",
       "    </tr>\n",
       "  </thead>\n",
       "  <tbody>\n",
       "    <tr>\n",
       "      <th>0</th>\n",
       "      <td>1</td>\n",
       "      <td>1</td>\n",
       "      <td>4.0</td>\n",
       "      <td>964982703</td>\n",
       "      <td>Toy Story (1995)</td>\n",
       "    </tr>\n",
       "    <tr>\n",
       "      <th>1</th>\n",
       "      <td>1</td>\n",
       "      <td>3</td>\n",
       "      <td>4.0</td>\n",
       "      <td>964981247</td>\n",
       "      <td>Grumpier Old Men (1995)</td>\n",
       "    </tr>\n",
       "    <tr>\n",
       "      <th>2</th>\n",
       "      <td>1</td>\n",
       "      <td>6</td>\n",
       "      <td>4.0</td>\n",
       "      <td>964982224</td>\n",
       "      <td>Heat (1995)</td>\n",
       "    </tr>\n",
       "    <tr>\n",
       "      <th>3</th>\n",
       "      <td>1</td>\n",
       "      <td>47</td>\n",
       "      <td>5.0</td>\n",
       "      <td>964983815</td>\n",
       "      <td>Seven (a.k.a. Se7en) (1995)</td>\n",
       "    </tr>\n",
       "    <tr>\n",
       "      <th>4</th>\n",
       "      <td>1</td>\n",
       "      <td>50</td>\n",
       "      <td>5.0</td>\n",
       "      <td>964982931</td>\n",
       "      <td>Usual Suspects, The (1995)</td>\n",
       "    </tr>\n",
       "  </tbody>\n",
       "</table>\n",
       "</div>\n",
       "      <button class=\"colab-df-convert\" onclick=\"convertToInteractive('df-d2489b60-330e-435c-a4a9-d9cfcdeb4ba6')\"\n",
       "              title=\"Convert this dataframe to an interactive table.\"\n",
       "              style=\"display:none;\">\n",
       "        \n",
       "  <svg xmlns=\"http://www.w3.org/2000/svg\" height=\"24px\"viewBox=\"0 0 24 24\"\n",
       "       width=\"24px\">\n",
       "    <path d=\"M0 0h24v24H0V0z\" fill=\"none\"/>\n",
       "    <path d=\"M18.56 5.44l.94 2.06.94-2.06 2.06-.94-2.06-.94-.94-2.06-.94 2.06-2.06.94zm-11 1L8.5 8.5l.94-2.06 2.06-.94-2.06-.94L8.5 2.5l-.94 2.06-2.06.94zm10 10l.94 2.06.94-2.06 2.06-.94-2.06-.94-.94-2.06-.94 2.06-2.06.94z\"/><path d=\"M17.41 7.96l-1.37-1.37c-.4-.4-.92-.59-1.43-.59-.52 0-1.04.2-1.43.59L10.3 9.45l-7.72 7.72c-.78.78-.78 2.05 0 2.83L4 21.41c.39.39.9.59 1.41.59.51 0 1.02-.2 1.41-.59l7.78-7.78 2.81-2.81c.8-.78.8-2.07 0-2.86zM5.41 20L4 18.59l7.72-7.72 1.47 1.35L5.41 20z\"/>\n",
       "  </svg>\n",
       "      </button>\n",
       "      \n",
       "  <style>\n",
       "    .colab-df-container {\n",
       "      display:flex;\n",
       "      flex-wrap:wrap;\n",
       "      gap: 12px;\n",
       "    }\n",
       "\n",
       "    .colab-df-convert {\n",
       "      background-color: #E8F0FE;\n",
       "      border: none;\n",
       "      border-radius: 50%;\n",
       "      cursor: pointer;\n",
       "      display: none;\n",
       "      fill: #1967D2;\n",
       "      height: 32px;\n",
       "      padding: 0 0 0 0;\n",
       "      width: 32px;\n",
       "    }\n",
       "\n",
       "    .colab-df-convert:hover {\n",
       "      background-color: #E2EBFA;\n",
       "      box-shadow: 0px 1px 2px rgba(60, 64, 67, 0.3), 0px 1px 3px 1px rgba(60, 64, 67, 0.15);\n",
       "      fill: #174EA6;\n",
       "    }\n",
       "\n",
       "    [theme=dark] .colab-df-convert {\n",
       "      background-color: #3B4455;\n",
       "      fill: #D2E3FC;\n",
       "    }\n",
       "\n",
       "    [theme=dark] .colab-df-convert:hover {\n",
       "      background-color: #434B5C;\n",
       "      box-shadow: 0px 1px 3px 1px rgba(0, 0, 0, 0.15);\n",
       "      filter: drop-shadow(0px 1px 2px rgba(0, 0, 0, 0.3));\n",
       "      fill: #FFFFFF;\n",
       "    }\n",
       "  </style>\n",
       "\n",
       "      <script>\n",
       "        const buttonEl =\n",
       "          document.querySelector('#df-d2489b60-330e-435c-a4a9-d9cfcdeb4ba6 button.colab-df-convert');\n",
       "        buttonEl.style.display =\n",
       "          google.colab.kernel.accessAllowed ? 'block' : 'none';\n",
       "\n",
       "        async function convertToInteractive(key) {\n",
       "          const element = document.querySelector('#df-d2489b60-330e-435c-a4a9-d9cfcdeb4ba6');\n",
       "          const dataTable =\n",
       "            await google.colab.kernel.invokeFunction('convertToInteractive',\n",
       "                                                     [key], {});\n",
       "          if (!dataTable) return;\n",
       "\n",
       "          const docLinkHtml = 'Like what you see? Visit the ' +\n",
       "            '<a target=\"_blank\" href=https://colab.research.google.com/notebooks/data_table.ipynb>data table notebook</a>'\n",
       "            + ' to learn more about interactive tables.';\n",
       "          element.innerHTML = '';\n",
       "          dataTable['output_type'] = 'display_data';\n",
       "          await google.colab.output.renderOutput(dataTable, element);\n",
       "          const docLink = document.createElement('div');\n",
       "          docLink.innerHTML = docLinkHtml;\n",
       "          element.appendChild(docLink);\n",
       "        }\n",
       "      </script>\n",
       "    </div>\n",
       "  </div>\n",
       "  "
      ],
      "text/plain": [
       "   userId  movieId  rating  timestamp                        title\n",
       "0       1        1     4.0  964982703             Toy Story (1995)\n",
       "1       1        3     4.0  964981247      Grumpier Old Men (1995)\n",
       "2       1        6     4.0  964982224                  Heat (1995)\n",
       "3       1       47     5.0  964983815  Seven (a.k.a. Se7en) (1995)\n",
       "4       1       50     5.0  964982931   Usual Suspects, The (1995)"
      ]
     },
     "execution_count": 5,
     "metadata": {},
     "output_type": "execute_result"
    }
   ],
   "source": [
    "df_ratings = pd.DataFrame(ratings)\n",
    "movies_df = pd.DataFrame(movies)\n",
    "\n",
    "df_ratings = df_ratings.merge(movies_df[['movieId', 'title']], how='left',  on='movieId')\n",
    "df_ratings.head()"
   ]
  },
  {
   "cell_type": "code",
   "execution_count": null,
   "metadata": {
    "id": "EVz8de7zKV23"
   },
   "outputs": [],
   "source": [
    "num_users = df_ratings['userId'].nunique()\n",
    "group = df_ratings.groupby('movieId')\n",
    "\n",
    "def create_movie_vector(group):\n",
    "    # Создаем массив нулей размером num_users\n",
    "    result = np.zeros(num_users) \n",
    "    # Добавляем новый столбец 'user_index', вычитая 1 из значений 'userId'\n",
    "    group['user_index'] = group['userId'] - 1 \n",
    "    # Присваиваем значения 'rating' в соответствующие позиции в массиве 'result'\n",
    "    result[group['user_index']] = group['rating']  \n",
    "    return result"
   ]
  },
  {
   "cell_type": "code",
   "execution_count": null,
   "metadata": {
    "id": "3cZDVcKFZ_RN"
   },
   "outputs": [],
   "source": [
    "movie_vector = group.apply(create_movie_vector)"
   ]
  },
  {
   "cell_type": "code",
   "execution_count": null,
   "metadata": {
    "colab": {
     "base_uri": "https://localhost:8080/"
    },
    "id": "VmiA-dJgfu4q",
    "outputId": "5976f29a-cd8a-40dd-cfba-0a808e365d78"
   },
   "outputs": [
    {
     "data": {
      "text/plain": [
       "movieId\n",
       "1         [4.0, 0.0, 0.0, 0.0, 4.0, 0.0, 4.5, 0.0, 0.0, ...\n",
       "2         [0.0, 0.0, 0.0, 0.0, 0.0, 4.0, 0.0, 4.0, 0.0, ...\n",
       "3         [4.0, 0.0, 0.0, 0.0, 0.0, 5.0, 0.0, 0.0, 0.0, ...\n",
       "4         [0.0, 0.0, 0.0, 0.0, 0.0, 3.0, 0.0, 0.0, 0.0, ...\n",
       "5         [0.0, 0.0, 0.0, 0.0, 0.0, 5.0, 0.0, 0.0, 0.0, ...\n",
       "                                ...                        \n",
       "193581    [0.0, 0.0, 0.0, 0.0, 0.0, 0.0, 0.0, 0.0, 0.0, ...\n",
       "193583    [0.0, 0.0, 0.0, 0.0, 0.0, 0.0, 0.0, 0.0, 0.0, ...\n",
       "193585    [0.0, 0.0, 0.0, 0.0, 0.0, 0.0, 0.0, 0.0, 0.0, ...\n",
       "193587    [0.0, 0.0, 0.0, 0.0, 0.0, 0.0, 0.0, 0.0, 0.0, ...\n",
       "193609    [0.0, 0.0, 0.0, 0.0, 0.0, 0.0, 0.0, 0.0, 0.0, ...\n",
       "Length: 9724, dtype: object"
      ]
     },
     "execution_count": 8,
     "metadata": {},
     "output_type": "execute_result"
    }
   ],
   "source": [
    "movie_vector"
   ]
  },
  {
   "cell_type": "markdown",
   "metadata": {
    "id": "4FvRUlDmxboW"
   },
   "source": [
    "# surprise"
   ]
  },
  {
   "cell_type": "markdown",
   "metadata": {
    "id": "fIoqcXZj0iZr"
   },
   "source": [
    "https://surpriselib.com/"
   ]
  },
  {
   "cell_type": "code",
   "execution_count": null,
   "metadata": {
    "colab": {
     "base_uri": "https://localhost:8080/"
    },
    "id": "7f_33e6f0oVV",
    "outputId": "8e2744d8-e8d0-47a2-8ae8-a8b56811fc7d"
   },
   "outputs": [
    {
     "name": "stdout",
     "output_type": "stream",
     "text": [
      "Looking in indexes: https://pypi.org/simple, https://us-python.pkg.dev/colab-wheels/public/simple/\n",
      "Requirement already satisfied: surprise in /usr/local/lib/python3.10/dist-packages (0.1)\n",
      "Requirement already satisfied: scikit-surprise in /usr/local/lib/python3.10/dist-packages (from surprise) (1.1.3)\n",
      "Requirement already satisfied: joblib>=1.0.0 in /usr/local/lib/python3.10/dist-packages (from scikit-surprise->surprise) (1.2.0)\n",
      "Requirement already satisfied: numpy>=1.17.3 in /usr/local/lib/python3.10/dist-packages (from scikit-surprise->surprise) (1.22.4)\n",
      "Requirement already satisfied: scipy>=1.3.2 in /usr/local/lib/python3.10/dist-packages (from scikit-surprise->surprise) (1.10.1)\n"
     ]
    }
   ],
   "source": [
    "!pip install surprise"
   ]
  },
  {
   "cell_type": "code",
   "execution_count": null,
   "metadata": {
    "id": "MpfIFQE00p24"
   },
   "outputs": [],
   "source": [
    "from surprise import KNNWithMeans, KNNBasic\n",
    "from surprise import Dataset\n",
    "from surprise import accuracy\n",
    "from surprise import Reader\n",
    "from surprise.model_selection import train_test_split\n",
    "from surprise.model_selection import cross_validate"
   ]
  },
  {
   "cell_type": "code",
   "execution_count": null,
   "metadata": {
    "id": "dsQXzkli1EWc"
   },
   "outputs": [],
   "source": [
    "# оставляем три атрибута и переименовываем их\n",
    "dataset = pd.DataFrame({\n",
    "    'uid': df_ratings.userId,\n",
    "    'iid': df_ratings.title,\n",
    "    'rating': df_ratings.rating\n",
    "})"
   ]
  },
  {
   "cell_type": "code",
   "execution_count": null,
   "metadata": {
    "colab": {
     "base_uri": "https://localhost:8080/",
     "height": 206
    },
    "id": "rE2uNOJd2yJZ",
    "outputId": "aeaf8517-4c3e-4d61-e00a-c9c76d614605"
   },
   "outputs": [
    {
     "data": {
      "text/html": [
       "\n",
       "  <div id=\"df-62375869-4341-4957-ad15-d2c27a58a7fd\">\n",
       "    <div class=\"colab-df-container\">\n",
       "      <div>\n",
       "<style scoped>\n",
       "    .dataframe tbody tr th:only-of-type {\n",
       "        vertical-align: middle;\n",
       "    }\n",
       "\n",
       "    .dataframe tbody tr th {\n",
       "        vertical-align: top;\n",
       "    }\n",
       "\n",
       "    .dataframe thead th {\n",
       "        text-align: right;\n",
       "    }\n",
       "</style>\n",
       "<table border=\"1\" class=\"dataframe\">\n",
       "  <thead>\n",
       "    <tr style=\"text-align: right;\">\n",
       "      <th></th>\n",
       "      <th>uid</th>\n",
       "      <th>iid</th>\n",
       "      <th>rating</th>\n",
       "    </tr>\n",
       "  </thead>\n",
       "  <tbody>\n",
       "    <tr>\n",
       "      <th>0</th>\n",
       "      <td>1</td>\n",
       "      <td>Toy Story (1995)</td>\n",
       "      <td>4.0</td>\n",
       "    </tr>\n",
       "    <tr>\n",
       "      <th>1</th>\n",
       "      <td>1</td>\n",
       "      <td>Grumpier Old Men (1995)</td>\n",
       "      <td>4.0</td>\n",
       "    </tr>\n",
       "    <tr>\n",
       "      <th>2</th>\n",
       "      <td>1</td>\n",
       "      <td>Heat (1995)</td>\n",
       "      <td>4.0</td>\n",
       "    </tr>\n",
       "    <tr>\n",
       "      <th>3</th>\n",
       "      <td>1</td>\n",
       "      <td>Seven (a.k.a. Se7en) (1995)</td>\n",
       "      <td>5.0</td>\n",
       "    </tr>\n",
       "    <tr>\n",
       "      <th>4</th>\n",
       "      <td>1</td>\n",
       "      <td>Usual Suspects, The (1995)</td>\n",
       "      <td>5.0</td>\n",
       "    </tr>\n",
       "  </tbody>\n",
       "</table>\n",
       "</div>\n",
       "      <button class=\"colab-df-convert\" onclick=\"convertToInteractive('df-62375869-4341-4957-ad15-d2c27a58a7fd')\"\n",
       "              title=\"Convert this dataframe to an interactive table.\"\n",
       "              style=\"display:none;\">\n",
       "        \n",
       "  <svg xmlns=\"http://www.w3.org/2000/svg\" height=\"24px\"viewBox=\"0 0 24 24\"\n",
       "       width=\"24px\">\n",
       "    <path d=\"M0 0h24v24H0V0z\" fill=\"none\"/>\n",
       "    <path d=\"M18.56 5.44l.94 2.06.94-2.06 2.06-.94-2.06-.94-.94-2.06-.94 2.06-2.06.94zm-11 1L8.5 8.5l.94-2.06 2.06-.94-2.06-.94L8.5 2.5l-.94 2.06-2.06.94zm10 10l.94 2.06.94-2.06 2.06-.94-2.06-.94-.94-2.06-.94 2.06-2.06.94z\"/><path d=\"M17.41 7.96l-1.37-1.37c-.4-.4-.92-.59-1.43-.59-.52 0-1.04.2-1.43.59L10.3 9.45l-7.72 7.72c-.78.78-.78 2.05 0 2.83L4 21.41c.39.39.9.59 1.41.59.51 0 1.02-.2 1.41-.59l7.78-7.78 2.81-2.81c.8-.78.8-2.07 0-2.86zM5.41 20L4 18.59l7.72-7.72 1.47 1.35L5.41 20z\"/>\n",
       "  </svg>\n",
       "      </button>\n",
       "      \n",
       "  <style>\n",
       "    .colab-df-container {\n",
       "      display:flex;\n",
       "      flex-wrap:wrap;\n",
       "      gap: 12px;\n",
       "    }\n",
       "\n",
       "    .colab-df-convert {\n",
       "      background-color: #E8F0FE;\n",
       "      border: none;\n",
       "      border-radius: 50%;\n",
       "      cursor: pointer;\n",
       "      display: none;\n",
       "      fill: #1967D2;\n",
       "      height: 32px;\n",
       "      padding: 0 0 0 0;\n",
       "      width: 32px;\n",
       "    }\n",
       "\n",
       "    .colab-df-convert:hover {\n",
       "      background-color: #E2EBFA;\n",
       "      box-shadow: 0px 1px 2px rgba(60, 64, 67, 0.3), 0px 1px 3px 1px rgba(60, 64, 67, 0.15);\n",
       "      fill: #174EA6;\n",
       "    }\n",
       "\n",
       "    [theme=dark] .colab-df-convert {\n",
       "      background-color: #3B4455;\n",
       "      fill: #D2E3FC;\n",
       "    }\n",
       "\n",
       "    [theme=dark] .colab-df-convert:hover {\n",
       "      background-color: #434B5C;\n",
       "      box-shadow: 0px 1px 3px 1px rgba(0, 0, 0, 0.15);\n",
       "      filter: drop-shadow(0px 1px 2px rgba(0, 0, 0, 0.3));\n",
       "      fill: #FFFFFF;\n",
       "    }\n",
       "  </style>\n",
       "\n",
       "      <script>\n",
       "        const buttonEl =\n",
       "          document.querySelector('#df-62375869-4341-4957-ad15-d2c27a58a7fd button.colab-df-convert');\n",
       "        buttonEl.style.display =\n",
       "          google.colab.kernel.accessAllowed ? 'block' : 'none';\n",
       "\n",
       "        async function convertToInteractive(key) {\n",
       "          const element = document.querySelector('#df-62375869-4341-4957-ad15-d2c27a58a7fd');\n",
       "          const dataTable =\n",
       "            await google.colab.kernel.invokeFunction('convertToInteractive',\n",
       "                                                     [key], {});\n",
       "          if (!dataTable) return;\n",
       "\n",
       "          const docLinkHtml = 'Like what you see? Visit the ' +\n",
       "            '<a target=\"_blank\" href=https://colab.research.google.com/notebooks/data_table.ipynb>data table notebook</a>'\n",
       "            + ' to learn more about interactive tables.';\n",
       "          element.innerHTML = '';\n",
       "          dataTable['output_type'] = 'display_data';\n",
       "          await google.colab.output.renderOutput(dataTable, element);\n",
       "          const docLink = document.createElement('div');\n",
       "          docLink.innerHTML = docLinkHtml;\n",
       "          element.appendChild(docLink);\n",
       "        }\n",
       "      </script>\n",
       "    </div>\n",
       "  </div>\n",
       "  "
      ],
      "text/plain": [
       "   uid                          iid  rating\n",
       "0    1             Toy Story (1995)     4.0\n",
       "1    1      Grumpier Old Men (1995)     4.0\n",
       "2    1                  Heat (1995)     4.0\n",
       "3    1  Seven (a.k.a. Se7en) (1995)     5.0\n",
       "4    1   Usual Suspects, The (1995)     5.0"
      ]
     },
     "execution_count": 12,
     "metadata": {},
     "output_type": "execute_result"
    }
   ],
   "source": [
    "dataset.head()"
   ]
  },
  {
   "cell_type": "code",
   "execution_count": null,
   "metadata": {
    "colab": {
     "base_uri": "https://localhost:8080/"
    },
    "id": "vjiYO2eX6gNv",
    "outputId": "9f1cb671-45c5-4e00-a339-48dc393c19b2"
   },
   "outputs": [
    {
     "data": {
      "text/plain": [
       "(9719, 610)"
      ]
     },
     "execution_count": 13,
     "metadata": {},
     "output_type": "execute_result"
    }
   ],
   "source": [
    "dataset.iid.nunique(), dataset.uid.nunique()"
   ]
  },
  {
   "cell_type": "markdown",
   "metadata": {
    "id": "AGs9Dw5M6o0l"
   },
   "source": [
    "Так как количество item-ов больше чем количество user-ов - выбираем user-based подход"
   ]
  },
  {
   "cell_type": "markdown",
   "metadata": {
    "id": "B9hxDrW7LvKJ"
   },
   "source": [
    "user-based KNNWithMeans"
   ]
  },
  {
   "cell_type": "code",
   "execution_count": null,
   "metadata": {
    "id": "CfG7NnuR2zjE"
   },
   "outputs": [],
   "source": [
    "# используем класс Reader из Surprise, чтобы определить диапазон значений рейтингов\n",
    "min_rating = dataset.rating.min()\n",
    "max_rating = dataset.rating.max()\n",
    "reader = Reader(rating_scale=(min_rating, max_rating))"
   ]
  },
  {
   "cell_type": "code",
   "execution_count": null,
   "metadata": {
    "id": "gnPxx7t04JV5"
   },
   "outputs": [],
   "source": [
    "# создаем объект Dataset из данных и объекта Reader\n",
    "df = Dataset.load_from_df(dataset, reader)"
   ]
  },
  {
   "cell_type": "code",
   "execution_count": null,
   "metadata": {
    "id": "-o6Omi6V4nX7"
   },
   "outputs": [],
   "source": [
    "algo = KNNWithMeans(k=50, sim_options={\n",
    "    'name': 'cosine',\n",
    "    'user_based': True  # compute  similarities between users\n",
    "})"
   ]
  },
  {
   "cell_type": "code",
   "execution_count": null,
   "metadata": {
    "colab": {
     "base_uri": "https://localhost:8080/"
    },
    "id": "QyzKCLj16850",
    "outputId": "8114d7d2-7e75-4115-d2a1-1eebe3b5dc93"
   },
   "outputs": [
    {
     "name": "stdout",
     "output_type": "stream",
     "text": [
      "Computing the cosine similarity matrix...\n",
      "Done computing similarity matrix.\n",
      "Computing the cosine similarity matrix...\n",
      "Done computing similarity matrix.\n",
      "Computing the cosine similarity matrix...\n",
      "Done computing similarity matrix.\n",
      "Computing the cosine similarity matrix...\n",
      "Done computing similarity matrix.\n",
      "Computing the cosine similarity matrix...\n",
      "Done computing similarity matrix.\n",
      "Evaluating RMSE, MAE of algorithm KNNWithMeans on 5 split(s).\n",
      "\n",
      "                  Fold 1  Fold 2  Fold 3  Fold 4  Fold 5  Mean    Std     \n",
      "RMSE (testset)    0.9009  0.8998  0.9062  0.8944  0.8994  0.9001  0.0038  \n",
      "MAE (testset)     0.6904  0.6868  0.6953  0.6824  0.6857  0.6881  0.0044  \n",
      "Fit time          0.17    0.22    0.40    0.59    0.20    0.32    0.16    \n",
      "Test time         2.10    2.29    4.76    3.99    1.48    2.92    1.24    \n"
     ]
    },
    {
     "data": {
      "text/plain": [
       "{'test_rmse': array([0.90089547, 0.89981784, 0.90622509, 0.89437346, 0.89939755]),\n",
       " 'test_mae': array([0.69039366, 0.6868261 , 0.6953285 , 0.68238224, 0.68571887]),\n",
       " 'fit_time': (0.1744556427001953,\n",
       "  0.22360634803771973,\n",
       "  0.3983745574951172,\n",
       "  0.5939021110534668,\n",
       "  0.20118236541748047),\n",
       " 'test_time': (2.103031873703003,\n",
       "  2.2856228351593018,\n",
       "  4.760380268096924,\n",
       "  3.9850032329559326,\n",
       "  1.4790887832641602)}"
      ]
     },
     "execution_count": 17,
     "metadata": {},
     "output_type": "execute_result"
    }
   ],
   "source": [
    "cv_results = cross_validate(algo, df, measures=[\"RMSE\", \"MAE\"], cv=5, verbose=True)\n",
    "cv_results"
   ]
  },
  {
   "cell_type": "code",
   "execution_count": null,
   "metadata": {
    "colab": {
     "base_uri": "https://localhost:8080/"
    },
    "id": "TTAkcjEt7H4q",
    "outputId": "3fd324c9-0d66-4f2f-c07a-2a5cfe1ccf29"
   },
   "outputs": [
    {
     "name": "stdout",
     "output_type": "stream",
     "text": [
      "mean RMSE = 0.9001418806321679\n"
     ]
    }
   ],
   "source": [
    "m = cv_results['test_rmse'].mean()\n",
    "print(f'mean RMSE = {m}')"
   ]
  },
  {
   "cell_type": "markdown",
   "metadata": {
    "id": "wvnphKdUBfsE"
   },
   "source": [
    "item-based KNNWithMeans"
   ]
  },
  {
   "cell_type": "code",
   "execution_count": null,
   "metadata": {
    "id": "7UVBjctBF5CP"
   },
   "outputs": [],
   "source": [
    "algo_2 = KNNWithMeans(k=50, sim_options={\n",
    "    'name': 'cosine',\n",
    "    'user_based': False  # compute similarities between items\n",
    "})"
   ]
  },
  {
   "cell_type": "code",
   "execution_count": null,
   "metadata": {
    "colab": {
     "base_uri": "https://localhost:8080/"
    },
    "id": "a9PD00nVGHWv",
    "outputId": "83a1314b-32dc-4bc7-a0a0-7fb831f78545"
   },
   "outputs": [
    {
     "name": "stdout",
     "output_type": "stream",
     "text": [
      "Computing the cosine similarity matrix...\n",
      "Done computing similarity matrix.\n",
      "Computing the cosine similarity matrix...\n",
      "Done computing similarity matrix.\n",
      "Computing the cosine similarity matrix...\n",
      "Done computing similarity matrix.\n",
      "Computing the cosine similarity matrix...\n",
      "Done computing similarity matrix.\n",
      "Computing the cosine similarity matrix...\n",
      "Done computing similarity matrix.\n",
      "Evaluating RMSE, MAE of algorithm KNNWithMeans on 5 split(s).\n",
      "\n",
      "                  Fold 1  Fold 2  Fold 3  Fold 4  Fold 5  Mean    Std     \n",
      "RMSE (testset)    0.8996  0.8958  0.9036  0.9096  0.9065  0.9030  0.0049  \n",
      "MAE (testset)     0.6879  0.6853  0.6907  0.6948  0.6891  0.6896  0.0031  \n",
      "Fit time          11.58   7.66    7.73    7.30    7.56    8.37    1.61    \n",
      "Test time         10.70   8.02    8.48    8.83    8.38    8.88    0.94    \n"
     ]
    },
    {
     "data": {
      "text/plain": [
       "{'test_rmse': array([0.89962897, 0.89579175, 0.90361082, 0.90961811, 0.90648374]),\n",
       " 'test_mae': array([0.68789547, 0.68533105, 0.69073451, 0.69476782, 0.6890914 ]),\n",
       " 'fit_time': (11.579537391662598,\n",
       "  7.662917137145996,\n",
       "  7.728542327880859,\n",
       "  7.300186634063721,\n",
       "  7.557751417160034),\n",
       " 'test_time': (10.698849201202393,\n",
       "  8.020298480987549,\n",
       "  8.484471559524536,\n",
       "  8.829739093780518,\n",
       "  8.377800226211548)}"
      ]
     },
     "execution_count": 20,
     "metadata": {},
     "output_type": "execute_result"
    }
   ],
   "source": [
    "cv_results_2 = cross_validate(algo_2, df, measures=[\"RMSE\", \"MAE\"], cv=5, verbose=True)\n",
    "cv_results_2"
   ]
  },
  {
   "cell_type": "code",
   "execution_count": null,
   "metadata": {
    "colab": {
     "base_uri": "https://localhost:8080/"
    },
    "id": "FGQKkpz4GJ4V",
    "outputId": "c7341eab-7e9b-4582-cd47-ba0011eac1ca"
   },
   "outputs": [
    {
     "name": "stdout",
     "output_type": "stream",
     "text": [
      "mean RMSE = 0.9030266787235656\n"
     ]
    }
   ],
   "source": [
    "m_2 = cv_results_2['test_rmse'].mean()\n",
    "print(f'mean RMSE = {m_2}')"
   ]
  },
  {
   "cell_type": "markdown",
   "metadata": {
    "id": "R2prEGCEGlLd"
   },
   "source": [
    "random_pred.NormalPredictor"
   ]
  },
  {
   "cell_type": "code",
   "execution_count": null,
   "metadata": {
    "id": "vML12aHuL8rQ"
   },
   "outputs": [],
   "source": [
    "from surprise import NormalPredictor"
   ]
  },
  {
   "cell_type": "code",
   "execution_count": null,
   "metadata": {
    "id": "t38vx5BhL5Jb"
   },
   "outputs": [],
   "source": [
    "algo_3 = NormalPredictor()"
   ]
  },
  {
   "cell_type": "code",
   "execution_count": null,
   "metadata": {
    "colab": {
     "base_uri": "https://localhost:8080/"
    },
    "id": "8jFngAHuMBzY",
    "outputId": "b7ebaeb2-f791-4935-86c1-2be7d2c6ec1c"
   },
   "outputs": [
    {
     "name": "stdout",
     "output_type": "stream",
     "text": [
      "Evaluating RMSE, MAE of algorithm NormalPredictor on 5 split(s).\n",
      "\n",
      "                  Fold 1  Fold 2  Fold 3  Fold 4  Fold 5  Mean    Std     \n",
      "RMSE (testset)    1.4238  1.4237  1.4262  1.4287  1.4362  1.4277  0.0046  \n",
      "MAE (testset)     1.1368  1.1371  1.1373  1.1410  1.1448  1.1394  0.0031  \n",
      "Fit time          0.11    0.14    0.14    0.34    0.13    0.17    0.09    \n",
      "Test time         0.52    0.14    0.25    0.12    0.42    0.29    0.16    \n"
     ]
    },
    {
     "data": {
      "text/plain": [
       "{'test_rmse': array([1.42383335, 1.42368649, 1.42622801, 1.42867446, 1.43622037]),\n",
       " 'test_mae': array([1.13679839, 1.13712539, 1.13727931, 1.14098752, 1.14481603]),\n",
       " 'fit_time': (0.10857248306274414,\n",
       "  0.13966703414916992,\n",
       "  0.13981270790100098,\n",
       "  0.3439011573791504,\n",
       "  0.1345217227935791),\n",
       " 'test_time': (0.5203654766082764,\n",
       "  0.14433073997497559,\n",
       "  0.2518932819366455,\n",
       "  0.12046313285827637,\n",
       "  0.4223442077636719)}"
      ]
     },
     "execution_count": 24,
     "metadata": {},
     "output_type": "execute_result"
    }
   ],
   "source": [
    "cv_results_3 = cross_validate(algo_3, df, measures=[\"RMSE\", \"MAE\"], cv=5, verbose=True)\n",
    "cv_results_3"
   ]
  },
  {
   "cell_type": "code",
   "execution_count": null,
   "metadata": {
    "colab": {
     "base_uri": "https://localhost:8080/"
    },
    "id": "VpsRjowJMGlK",
    "outputId": "9a788a05-112e-4225-d445-7edf27424a1f"
   },
   "outputs": [
    {
     "name": "stdout",
     "output_type": "stream",
     "text": [
      "mean RMSE = 1.4277285377393025\n"
     ]
    }
   ],
   "source": [
    "m_3 = cv_results_3['test_rmse'].mean()\n",
    "print(f'mean RMSE = {m_3}')"
   ]
  },
  {
   "cell_type": "markdown",
   "metadata": {
    "id": "pZ1t8YmpMjt1"
   },
   "source": [
    "SVD"
   ]
  },
  {
   "cell_type": "code",
   "execution_count": null,
   "metadata": {
    "id": "8VukRxBRMuFq"
   },
   "outputs": [],
   "source": [
    "from surprise import SVD"
   ]
  },
  {
   "cell_type": "code",
   "execution_count": null,
   "metadata": {
    "id": "6EtvREOvMsgS"
   },
   "outputs": [],
   "source": [
    "algo_4 = SVD(n_factors=200, n_epochs=40, lr_all=0.01, reg_all=0.1)"
   ]
  },
  {
   "cell_type": "code",
   "execution_count": null,
   "metadata": {
    "colab": {
     "base_uri": "https://localhost:8080/"
    },
    "id": "DaaZJNfHMs3d",
    "outputId": "1fcd1741-6e2b-4c65-e781-dd895407bcf6"
   },
   "outputs": [
    {
     "name": "stdout",
     "output_type": "stream",
     "text": [
      "Evaluating RMSE, MAE of algorithm SVD on 5 split(s).\n",
      "\n",
      "                  Fold 1  Fold 2  Fold 3  Fold 4  Fold 5  Mean    Std     \n",
      "RMSE (testset)    0.8597  0.8455  0.8500  0.8499  0.8517  0.8514  0.0046  \n",
      "MAE (testset)     0.6586  0.6495  0.6488  0.6519  0.6533  0.6524  0.0035  \n",
      "Fit time          4.77    3.97    4.96    3.97    4.08    4.35    0.43    \n",
      "Test time         0.25    0.23    0.18    0.14    0.14    0.19    0.04    \n"
     ]
    },
    {
     "data": {
      "text/plain": [
       "{'test_rmse': array([0.85970643, 0.84552143, 0.849986  , 0.8499061 , 0.85166369]),\n",
       " 'test_mae': array([0.65859493, 0.64948802, 0.64884723, 0.65186976, 0.65333482]),\n",
       " 'fit_time': (4.773089408874512,\n",
       "  3.969111919403076,\n",
       "  4.95647120475769,\n",
       "  3.9720335006713867,\n",
       "  4.078521966934204),\n",
       " 'test_time': (0.2458205223083496,\n",
       "  0.2260727882385254,\n",
       "  0.18163418769836426,\n",
       "  0.137467622756958,\n",
       "  0.14379286766052246)}"
      ]
     },
     "execution_count": 28,
     "metadata": {},
     "output_type": "execute_result"
    }
   ],
   "source": [
    "cv_results_4 = cross_validate(algo_4, df, measures=[\"RMSE\", \"MAE\"], cv=5, verbose=True)\n",
    "cv_results_4"
   ]
  },
  {
   "cell_type": "code",
   "execution_count": null,
   "metadata": {
    "colab": {
     "base_uri": "https://localhost:8080/"
    },
    "id": "uVWE7RqYM0hz",
    "outputId": "61d732bf-ffd2-49c7-9597-f048d9a8b5b7"
   },
   "outputs": [
    {
     "name": "stdout",
     "output_type": "stream",
     "text": [
      "mean RMSE = 0.8513567309335114\n"
     ]
    }
   ],
   "source": [
    "m_4 = cv_results_4['test_rmse'].mean()\n",
    "print(f'mean RMSE = {m_4}')"
   ]
  },
  {
   "cell_type": "markdown",
   "metadata": {
    "id": "p_9XVnUpPDl5"
   },
   "source": [
    "Вывод: наименьшая на кросс-валидации RMSE, равная 0.85, получена при использовании алгоритма SVD."
   ]
  }
 ],
 "metadata": {
  "colab": {
   "provenance": []
  },
  "kernelspec": {
   "display_name": "Python 3 (ipykernel)",
   "language": "python",
   "name": "python3"
  },
  "language_info": {
   "codemirror_mode": {
    "name": "ipython",
    "version": 3
   },
   "file_extension": ".py",
   "mimetype": "text/x-python",
   "name": "python",
   "nbconvert_exporter": "python",
   "pygments_lexer": "ipython3",
   "version": "3.11.5"
  }
 },
 "nbformat": 4,
 "nbformat_minor": 1
}
