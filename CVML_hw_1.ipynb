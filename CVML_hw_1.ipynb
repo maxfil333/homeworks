{
 "cells": [
  {
   "cell_type": "markdown",
   "id": "30605114",
   "metadata": {},
   "source": [
    "## Digit Recognizer\n",
    "https://www.kaggle.com/c/digit-recognizer"
   ]
  },
  {
   "cell_type": "code",
   "execution_count": 1,
   "id": "fde748b4",
   "metadata": {},
   "outputs": [],
   "source": [
    "import torch\n",
    "import torch.nn as nn\n",
    "import torch.optim as optim\n",
    "from torchvision import datasets, transforms\n",
    "from sklearn.decomposition import PCA\n",
    "from sklearn.svm import SVC\n",
    "from sklearn.metrics import accuracy_score\n",
    "from sklearn.preprocessing import StandardScaler\n",
    "import numpy as np\n",
    "\n",
    "import cv2\n",
    "import matplotlib.pyplot as plt"
   ]
  },
  {
   "cell_type": "markdown",
   "id": "d09d074b",
   "metadata": {},
   "source": [
    "## Шаг 1: Подготовка данных"
   ]
  },
  {
   "cell_type": "code",
   "execution_count": 2,
   "id": "d8de876b",
   "metadata": {},
   "outputs": [
    {
     "data": {
      "text/plain": [
       "((42000, 785), (28000, 784))"
      ]
     },
     "execution_count": 2,
     "metadata": {},
     "output_type": "execute_result"
    }
   ],
   "source": [
    "train = np.loadtxt('./Series/MNIST_train.csv', delimiter=',', skiprows=1)\n",
    "test = np.loadtxt('./Series/MNIST_test.csv', delimiter=',', skiprows=1)\n",
    "\n",
    "train.shape, test.shape"
   ]
  },
  {
   "cell_type": "code",
   "execution_count": 3,
   "id": "03fa0291",
   "metadata": {},
   "outputs": [
    {
     "data": {
      "text/plain": [
       "((42000, 28, 28), (42000,), (28000, 28, 28))"
      ]
     },
     "execution_count": 3,
     "metadata": {},
     "output_type": "execute_result"
    }
   ],
   "source": [
    "# сохраняем разметку в отдельную переменную\n",
    "train_labels = train[:, 0]\n",
    "\n",
    "# приводим размерность к удобному для обаботки виду\n",
    "train_img = np.resize(train[:, 1:], (train.shape[0], 28, 28))\n",
    "test_img = np.resize(test, (test.shape[0], 28, 28))\n",
    "\n",
    "train_img.shape, train_labels.shape, test_img.shape"
   ]
  },
  {
   "cell_type": "code",
   "execution_count": 4,
   "id": "662403bb",
   "metadata": {},
   "outputs": [
    {
     "data": {
      "text/plain": [
       "(torch.Size([42000, 28, 28]), torch.Size([28000, 28, 28]))"
      ]
     },
     "execution_count": 4,
     "metadata": {},
     "output_type": "execute_result"
    }
   ],
   "source": [
    "# преобразовываем в torch.Tesnor\n",
    "\n",
    "train_dataset = torch.from_numpy(train_img, ).to(torch.uint8)\n",
    "test_dataset = torch.from_numpy(test_img, ).to(torch.uint8)\n",
    "train_labels = torch.Tensor(train_labels).to(torch.uint8)\n",
    "\n",
    "train_dataset.shape, test_dataset.shape"
   ]
  },
  {
   "cell_type": "code",
   "execution_count": 5,
   "id": "b3910b6d",
   "metadata": {},
   "outputs": [
    {
     "data": {
      "image/png": "[encoded data removed]",
      "text/plain": [
       "<Figure size 1000x500 with 3 Axes>"
      ]
     },
     "metadata": {},
     "output_type": "display_data"
    }
   ],
   "source": [
    "data, labels = train_dataset.data[0:3], train_labels[0:3].numpy()\n",
    "\n",
    "fig, ax = plt.subplots(1,3)\n",
    "fig.set_size_inches(10,5)\n",
    "\n",
    "for i in range(3):\n",
    "    ax[i].imshow(data[i], cmap='gray')\n",
    "    ax[i].set_title(labels[i]);"
   ]
  },
  {
   "cell_type": "markdown",
   "id": "03fa9c7d",
   "metadata": {},
   "source": [
    "## Шаг 2: Предобработка изображений. PCA для сокращения размерности"
   ]
  },
  {
   "cell_type": "code",
   "execution_count": 6,
   "id": "0781ffd7",
   "metadata": {},
   "outputs": [],
   "source": [
    "train_features = train_dataset.data.reshape(-1, 28*28).numpy()\n",
    "test_features = test_dataset.data.reshape(-1, 28*28).numpy()"
   ]
  },
  {
   "cell_type": "code",
   "execution_count": 7,
   "id": "43078acd",
   "metadata": {},
   "outputs": [
    {
     "data": {
      "text/plain": [
       "((42000, 784), (28000, 784))"
      ]
     },
     "execution_count": 7,
     "metadata": {},
     "output_type": "execute_result"
    }
   ],
   "source": [
    "train_features.shape, test_features.shape"
   ]
  },
  {
   "cell_type": "code",
   "execution_count": 8,
   "id": "86033ee2",
   "metadata": {},
   "outputs": [],
   "source": [
    "scaler = StandardScaler()\n",
    "train_features_scaled = scaler.fit_transform(train_features)\n",
    "test_features_scaled = scaler.transform(test_features)"
   ]
  },
  {
   "cell_type": "code",
   "execution_count": 9,
   "id": "afbbcf29",
   "metadata": {},
   "outputs": [],
   "source": [
    "pca = PCA(n_components=100)\n",
    "train_features_pca = pca.fit_transform(train_features_scaled)\n",
    "test_features_pca = pca.transform(test_features_scaled)"
   ]
  },
  {
   "cell_type": "code",
   "execution_count": 10,
   "id": "03251ada",
   "metadata": {},
   "outputs": [
    {
     "data": {
      "text/plain": [
       "((42000, 100), (28000, 100))"
      ]
     },
     "execution_count": 10,
     "metadata": {},
     "output_type": "execute_result"
    }
   ],
   "source": [
    "train_features_pca.shape, test_features_pca.shape"
   ]
  },
  {
   "cell_type": "code",
   "execution_count": 11,
   "id": "fc414783",
   "metadata": {},
   "outputs": [],
   "source": [
    "# train_labels = train_dataset.targets\n",
    "# test_labels = test_dataset.targets\n",
    "\n",
    "train_dataset_pca = torch.utils.data.TensorDataset(torch.from_numpy(train_features_pca).float(), train_labels)\n",
    "# test_dataset_pca = torch.utils.data.TensorDataset(torch.from_numpy(test_features_pca).float(), test_labels)"
   ]
  },
  {
   "cell_type": "code",
   "execution_count": 12,
   "id": "920ee7e1",
   "metadata": {},
   "outputs": [],
   "source": [
    "train_loader = torch.utils.data.DataLoader(train_dataset_pca, batch_size=64, shuffle=True)\n",
    "# test_loader = torch.utils.data.DataLoader(test_dataset_pca, batch_size=64, shuffle=False)"
   ]
  },
  {
   "cell_type": "markdown",
   "id": "7297a1c8",
   "metadata": {},
   "source": [
    "## Шаг 3: Создание модели "
   ]
  },
  {
   "cell_type": "code",
   "execution_count": 13,
   "id": "a0a6998e",
   "metadata": {},
   "outputs": [],
   "source": [
    "class MLP(nn.Module):\n",
    "    def __init__(self, input_size, hidden_size, num_classes):\n",
    "        super(MLP, self).__init__()\n",
    "        self.fc1 = nn.Linear(input_size, hidden_size)\n",
    "        self.relu = nn.ReLU()\n",
    "        self.dropout = nn.Dropout(0.2)\n",
    "        self.bn = nn.BatchNorm1d(hidden_size)\n",
    "        self.fc2 = nn.Linear(hidden_size, num_classes)\n",
    "\n",
    "    def forward(self, x):\n",
    "        out = self.fc1(x)\n",
    "        out = self.relu(out)\n",
    "        out = self.dropout(out)\n",
    "        out = self.bn(out)\n",
    "        out = self.fc2(out)\n",
    "        return out"
   ]
  },
  {
   "cell_type": "code",
   "execution_count": 14,
   "id": "553da10d",
   "metadata": {},
   "outputs": [],
   "source": [
    "input_size = train_features_pca.shape[1]\n",
    "hidden_size = 256\n",
    "num_classes = 10"
   ]
  },
  {
   "cell_type": "code",
   "execution_count": 15,
   "id": "c1764018",
   "metadata": {},
   "outputs": [],
   "source": [
    "model = MLP(input_size, hidden_size, num_classes)"
   ]
  },
  {
   "cell_type": "code",
   "execution_count": 16,
   "id": "59c929b7",
   "metadata": {},
   "outputs": [],
   "source": [
    "criterion = nn.CrossEntropyLoss()\n",
    "optimizer = optim.Adam(model.parameters(), lr=0.01)\n",
    "scheduler = torch.optim.lr_scheduler.StepLR(optimizer, step_size=2, gamma=0.5)"
   ]
  },
  {
   "cell_type": "code",
   "execution_count": 17,
   "id": "4f5ad78c",
   "metadata": {},
   "outputs": [
    {
     "name": "stdout",
     "output_type": "stream",
     "text": [
      "Epoch [1/10], Loss: 0.12027866393327713\n",
      "Epoch [2/10], Loss: 0.6907888054847717\n",
      "Epoch [3/10], Loss: 0.039229921996593475\n",
      "Epoch [4/10], Loss: 0.10188154876232147\n",
      "Epoch [5/10], Loss: 0.02106158249080181\n",
      "Epoch [6/10], Loss: 0.021771112456917763\n",
      "Epoch [7/10], Loss: 0.09307211637496948\n",
      "Epoch [8/10], Loss: 0.002721802331507206\n",
      "Epoch [9/10], Loss: 0.02361186407506466\n",
      "Epoch [10/10], Loss: 0.057856108993291855\n"
     ]
    }
   ],
   "source": [
    "num_epochs = 10\n",
    "for epoch in range(num_epochs):\n",
    "    for features, labels in train_loader:\n",
    "        # Forward pass\n",
    "        outputs = model(features)\n",
    "        loss = criterion(outputs, labels)\n",
    "\n",
    "        # Backward and optimize\n",
    "        optimizer.zero_grad()\n",
    "        loss.backward()\n",
    "        optimizer.step()\n",
    "    scheduler.step()\n",
    "    print(f'Epoch [{epoch+1}/{num_epochs}], Loss: {loss.item()}')"
   ]
  },
  {
   "cell_type": "markdown",
   "id": "b12764d0",
   "metadata": {},
   "source": [
    "## Оценка модели и запись предсказаний в файл"
   ]
  },
  {
   "cell_type": "code",
   "execution_count": 18,
   "id": "083d380c",
   "metadata": {},
   "outputs": [
    {
     "data": {
      "text/plain": [
       "28000"
      ]
     },
     "execution_count": 18,
     "metadata": {},
     "output_type": "execute_result"
    }
   ],
   "source": [
    "test_dataset_pca = torch.utils.data.TensorDataset(torch.from_numpy(test_features_pca).float())\n",
    "test_loader = torch.utils.data.DataLoader(test_dataset_pca, batch_size=64, shuffle=False)\n",
    "\n",
    "predictions = []\n",
    "with torch.no_grad():\n",
    "    for features in test_loader:\n",
    "        outputs = model(features[0])\n",
    "        _, pred = torch.max(outputs.data, 1)\n",
    "        predictions.extend(pred.tolist())\n",
    "len(predictions)"
   ]
  },
  {
   "cell_type": "code",
   "execution_count": 19,
   "id": "bf96935e",
   "metadata": {},
   "outputs": [
    {
     "data": {
      "image/png": "[encoded data removed]",
      "text/plain": [
       "<Figure size 1000x500 with 3 Axes>"
      ]
     },
     "metadata": {},
     "output_type": "display_data"
    }
   ],
   "source": [
    "a = 999\n",
    "\n",
    "data, labels = test_dataset.data[a:a+3], predictions[a:a+3]\n",
    "\n",
    "fig, ax = plt.subplots(1,3)\n",
    "fig.set_size_inches(10,5)\n",
    "\n",
    "for i in range(3):\n",
    "    ax[i].imshow(data[i], cmap='gray')\n",
    "    ax[i].set_title(labels[i]);"
   ]
  },
  {
   "cell_type": "code",
   "execution_count": 21,
   "id": "d4685051",
   "metadata": {},
   "outputs": [],
   "source": [
    "with open('submit.csv', 'w') as file:\n",
    "    file.write('ImageId,Label\\n')\n",
    "    for i, p in enumerate(predictions, 1):\n",
    "        print(f'{i},{p}', file=file)"
   ]
  }
 ],
 "metadata": {
  "kernelspec": {
   "display_name": "Python 3 (ipykernel)",
   "language": "python",
   "name": "python3"
  },
  "language_info": {
   "codemirror_mode": {
    "name": "ipython",
    "version": 3
   },
   "file_extension": ".py",
   "mimetype": "text/x-python",
   "name": "python",
   "nbconvert_exporter": "python",
   "pygments_lexer": "ipython3",
   "version": "3.9.13"
  }
 },
 "nbformat": 4,
 "nbformat_minor": 5
}
